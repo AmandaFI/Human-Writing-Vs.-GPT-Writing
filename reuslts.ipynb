{
 "cells": [
  {
   "cell_type": "code",
   "execution_count": 14,
   "metadata": {},
   "outputs": [],
   "source": [
    "import keras\n",
    "import pickle\n",
    "import matplotlib.pyplot as plt\n",
    "import itertools\n",
    "import numpy as np\n",
    "from sklearn.metrics import confusion_matrix, classification_report"
   ]
  },
  {
   "cell_type": "code",
   "execution_count": 15,
   "metadata": {},
   "outputs": [],
   "source": [
    "file = open('lstm_dataset_test', 'rb')\n",
    "x_test, y_test = pickle.load(file)\n",
    "file.close()"
   ]
  },
  {
   "cell_type": "code",
   "execution_count": 16,
   "metadata": {},
   "outputs": [
    {
     "name": "stdout",
     "output_type": "stream",
     "text": [
      "6/6 [==============================] - 1s 83ms/step\n"
     ]
    }
   ],
   "source": [
    "model = keras.models.load_model('modelo_9437_9140_9157.h5')\n",
    "y_pred = model.predict(x_test)"
   ]
  },
  {
   "cell_type": "code",
   "execution_count": 9,
   "metadata": {},
   "outputs": [],
   "source": [
    "def plot_confusion_matrix(cm, classes,\n",
    "                        normalize=False,\n",
    "                        title='Confusion matrix',\n",
    "                        cmap=plt.cm.Blues):\n",
    "    \"\"\"\n",
    "    This function prints and plots the confusion matrix.\n",
    "    Normalization can be applied by setting `normalize=True`.\n",
    "    Parameters\n",
    "    ----------\n",
    "    cm : numpy ndarray with \n",
    "        matrix with the confusion matrix values returned from scipy\n",
    "    normalize : Boolen\n",
    "        wether cm is normalized or not\n",
    "    title: string\n",
    "        plot title text\n",
    "    cmap: string\n",
    "        matplotlib plt.cm cmap options\n",
    "        \n",
    "    Returns\n",
    "    -------\n",
    "        None\n",
    "    \"\"\"\n",
    "    plt.imshow(cm, interpolation='nearest', cmap=cmap)\n",
    "    plt.title(title)\n",
    "    plt.colorbar()\n",
    "    tick_marks = np.arange(len(classes))\n",
    "    plt.xticks(tick_marks, classes, rotation=45)\n",
    "    plt.yticks(tick_marks, classes)\n",
    "\n",
    "    if normalize:\n",
    "        cm = cm.astype('float') / cm.sum(axis=1)[:, np.newaxis]\n",
    "        print(\"Normalized confusion matrix\")\n",
    "    else:\n",
    "        print('Confusion matrix, without normalization')\n",
    "\n",
    "    print(cm)\n",
    "\n",
    "    thresh = cm.max() / 2.\n",
    "    for i, j in itertools.product(range(cm.shape[0]), range(cm.shape[1])):\n",
    "        plt.text(j, i, cm[i, j],\n",
    "            horizontalalignment=\"center\",\n",
    "            color=\"white\" if cm[i, j] > thresh else \"black\")\n",
    "\n",
    "    plt.tight_layout()\n",
    "    plt.ylabel('True label')\n",
    "    plt.xlabel('Predicted label')"
   ]
  },
  {
   "cell_type": "code",
   "execution_count": 17,
   "metadata": {},
   "outputs": [
    {
     "name": "stdout",
     "output_type": "stream",
     "text": [
      "Confusion matrix, without normalization\n",
      "[[87  8]\n",
      " [ 8 87]]\n",
      "regular \t 0.9157894736842105 %\n",
      "blink \t 0.9157894736842105 %\n"
     ]
    },
    {
     "data": {
      "image/png": "[encoded data removed]",
      "text/plain": [
       "<Figure size 640x480 with 2 Axes>"
      ]
     },
     "metadata": {},
     "output_type": "display_data"
    }
   ],
   "source": [
    "labels_resultado = ['regular', 'blink']\n",
    "cm = confusion_matrix(y_test, y_pred.round())\n",
    "plot_confusion_matrix(cm, labels_resultado)\n",
    "for i in range(2):\n",
    "    print(f'{labels_resultado[i]} \\t {cm[i,i]/cm[i,:].sum()} %')"
   ]
  },
  {
   "cell_type": "code",
   "execution_count": 18,
   "metadata": {},
   "outputs": [],
   "source": [
    "Tp = cm[1,1]\n",
    "Tn = cm[0,0]\n",
    "Fp = cm[0,1]\n",
    "Fn = cm[1,0]\n",
    "prec = (Tp)/(Tp + Fp)\n",
    "rec = (Tp)/(Tp + Fn)"
   ]
  },
  {
   "cell_type": "code",
   "execution_count": 19,
   "metadata": {},
   "outputs": [
    {
     "name": "stdout",
     "output_type": "stream",
     "text": [
      "Accuracy  =  91.57894736842105%\n",
      "Precision =  91.57894736842105 %\n",
      "Recal     =  91.57894736842105 %\n",
      "F1 Rate   =  91.57894736842104\n"
     ]
    }
   ],
   "source": [
    "print(f'Accuracy  =  {100*(Tp + Tn)/(Tp+Tn+Fp+Fn)} %')\n",
    "print(f'Precision =  {100*(Tp)/(Tp + Fp)} %')\n",
    "print(f'Recal     =  {100*(Tp)/(Tp + Fn)} %')\n",
    "print(f'F1 Rate   =  {100*2*(prec*rec)/(prec + rec)}')"
   ]
  },
  {
   "cell_type": "code",
   "execution_count": 20,
   "metadata": {},
   "outputs": [
    {
     "name": "stdout",
     "output_type": "stream",
     "text": [
      "              precision    recall  f1-score   support\n",
      "\n",
      "         0.0     0.9158    0.9158    0.9158        95\n",
      "         1.0     0.9158    0.9158    0.9158        95\n",
      "\n",
      "    accuracy                         0.9158       190\n",
      "   macro avg     0.9158    0.9158    0.9158       190\n",
      "weighted avg     0.9158    0.9158    0.9158       190\n",
      "\n"
     ]
    }
   ],
   "source": [
    "report = classification_report(y_test, y_pred.round(), digits=4)\n",
    "print(report)"
   ]
  },
  {
   "cell_type": "code",
   "execution_count": null,
   "metadata": {},
   "outputs": [],
   "source": []
  },
  {
   "cell_type": "code",
   "execution_count": null,
   "metadata": {},
   "outputs": [],
   "source": []
  }
 ],
 "metadata": {
  "kernelspec": {
   "display_name": "blink",
   "language": "python",
   "name": "python3"
  },
  "language_info": {
   "codemirror_mode": {
    "name": "ipython",
    "version": 3
   },
   "file_extension": ".py",
   "mimetype": "text/x-python",
   "name": "python",
   "nbconvert_exporter": "python",
   "pygments_lexer": "ipython3",
   "version": "3.10.8"
  },
  "orig_nbformat": 4
 },
 "nbformat": 4,
 "nbformat_minor": 2
}

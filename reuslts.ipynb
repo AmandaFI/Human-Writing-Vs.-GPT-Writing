{
 "cells": [
  {
   "cell_type": "code",
   "execution_count": 1,
   "metadata": {},
   "outputs": [],
   "source": [
    "import keras\n",
    "import pickle\n",
    "import matplotlib.pyplot as plt\n",
    "import itertools\n",
    "import numpy as np\n",
    "from sklearn.metrics import confusion_matrix, classification_report"
   ]
  },
  {
   "cell_type": "code",
   "execution_count": 15,
   "metadata": {},
   "outputs": [],
   "source": [
    "file = open('lstm_dataset_test', 'rb')\n",
    "x_test, y_test = pickle.load(file)\n",
    "file.close()"
   ]
  },
  {
   "cell_type": "code",
   "execution_count": 16,
   "metadata": {},
   "outputs": [
    {
     "name": "stdout",
     "output_type": "stream",
     "text": [
      "6/6 [==============================] - 1s 83ms/step\n"
     ]
    }
   ],
   "source": [
    "model = keras.models.load_model('modelo_9437_9140_9157.h5')\n",
    "y_pred = model.predict(x_test)"
   ]
  },
  {
   "cell_type": "code",
   "execution_count": 9,
   "metadata": {},
   "outputs": [],
   "source": [
    "def plot_confusion_matrix(cm, classes,\n",
    "                        normalize=False,\n",
    "                        title='Confusion matrix',\n",
    "                        cmap=plt.cm.Blues):\n",
    "    \"\"\"\n",
    "    This function prints and plots the confusion matrix.\n",
    "    Normalization can be applied by setting `normalize=True`.\n",
    "    Parameters\n",
    "    ----------\n",
    "    cm : numpy ndarray with \n",
    "        matrix with the confusion matrix values returned from scipy\n",
    "    normalize : Boolen\n",
    "        wether cm is normalized or not\n",
    "    title: string\n",
    "        plot title text\n",
    "    cmap: string\n",
    "        matplotlib plt.cm cmap options\n",
    "        \n",
    "    Returns\n",
    "    -------\n",
    "        None\n",
    "    \"\"\"\n",
    "    plt.imshow(cm, interpolation='nearest', cmap=cmap)\n",
    "    plt.title(title)\n",
    "    plt.colorbar()\n",
    "    tick_marks = np.arange(len(classes))\n",
    "    plt.xticks(tick_marks, classes, rotation=45)\n",
    "    plt.yticks(tick_marks, classes)\n",
    "\n",
    "    if normalize:\n",
    "        cm = cm.astype('float') / cm.sum(axis=1)[:, np.newaxis]\n",
    "        print(\"Normalized confusion matrix\")\n",
    "    else:\n",
    "        print('Confusion matrix, without normalization')\n",
    "\n",
    "    print(cm)\n",
    "\n",
    "    thresh = cm.max() / 2.\n",
    "    for i, j in itertools.product(range(cm.shape[0]), range(cm.shape[1])):\n",
    "        plt.text(j, i, cm[i, j],\n",
    "            horizontalalignment=\"center\",\n",
    "            color=\"white\" if cm[i, j] > thresh else \"black\")\n",
    "\n",
    "    plt.tight_layout()\n",
    "    plt.ylabel('True label')\n",
    "    plt.xlabel('Predicted label')"
   ]
  },
  {
   "cell_type": "code",
   "execution_count": 17,
   "metadata": {},
   "outputs": [
    {
     "name": "stdout",
     "output_type": "stream",
     "text": [
      "Confusion matrix, without normalization\n",
      "[[87  8]\n",
      " [ 8 87]]\n",
      "regular \t 0.9157894736842105 %\n",
      "blink \t 0.9157894736842105 %\n"
     ]
    },
    {
     "data": {
      "image/png": "[encoded data removed]",
      "text/plain": [
       "<Figure size 640x480 with 2 Axes>"
      ]
     },
     "metadata": {},
     "output_type": "display_data"
    }
   ],
   "source": [
    "labels_resultado = ['regular', 'blink']\n",
    "cm = confusion_matrix(y_test, y_pred.round())\n",
    "plot_confusion_matrix(cm, labels_resultado)\n",
    "for i in range(2):\n",
    "    print(f'{labels_resultado[i]} \\t {cm[i,i]/cm[i,:].sum()} %')"
   ]
  },
  {
   "cell_type": "code",
   "execution_count": 18,
   "metadata": {},
   "outputs": [],
   "source": [
    "Tp = cm[1,1]\n",
    "Tn = cm[0,0]\n",
    "Fp = cm[0,1]\n",
    "Fn = cm[1,0]\n",
    "prec = (Tp)/(Tp + Fp)\n",
    "rec = (Tp)/(Tp + Fn)"
   ]
  },
  {
   "cell_type": "code",
   "execution_count": 19,
   "metadata": {},
   "outputs": [
    {
     "name": "stdout",
     "output_type": "stream",
     "text": [
      "Accuracy  =  91.57894736842105%\n",
      "Precision =  91.57894736842105 %\n",
      "Recal     =  91.57894736842105 %\n",
      "F1 Rate   =  91.57894736842104\n"
     ]
    }
   ],
   "source": [
    "print(f'Accuracy  =  {100*(Tp + Tn)/(Tp+Tn+Fp+Fn)} %')\n",
    "print(f'Precision =  {100*(Tp)/(Tp + Fp)} %')\n",
    "print(f'Recal     =  {100*(Tp)/(Tp + Fn)} %')\n",
    "print(f'F1 Rate   =  {100*2*(prec*rec)/(prec + rec)}')"
   ]
  },
  {
   "cell_type": "code",
   "execution_count": 20,
   "metadata": {},
   "outputs": [
    {
     "name": "stdout",
     "output_type": "stream",
     "text": [
      "              precision    recall  f1-score   support\n",
      "\n",
      "         0.0     0.9158    0.9158    0.9158        95\n",
      "         1.0     0.9158    0.9158    0.9158        95\n",
      "\n",
      "    accuracy                         0.9158       190\n",
      "   macro avg     0.9158    0.9158    0.9158       190\n",
      "weighted avg     0.9158    0.9158    0.9158       190\n",
      "\n"
     ]
    }
   ],
   "source": [
    "report = classification_report(y_test, y_pred.round(), digits=4)\n",
    "print(report)"
   ]
  },
  {
   "cell_type": "code",
   "execution_count": 48,
   "metadata": {},
   "outputs": [],
   "source": [
    "import nltk\n",
    "import plotly.express as px\n",
    "import pandas as pd\n",
    "import csv"
   ]
  },
  {
   "cell_type": "code",
   "execution_count": 6,
   "metadata": {},
   "outputs": [],
   "source": [
    "file = open('data_pickles/train_test_val_Human', 'rb')\n",
    "X_human_train_posTags, X_human_test_posTags, X_human_val_posTags = pickle.load(file)\n",
    "file.close()\n",
    "\n",
    "Y_human_train = np.zeros(len(X_human_train_posTags))\n",
    "Y_human_test = np.zeros(len(X_human_test_posTags))\n",
    "Y_human_val = np.zeros(len(X_human_val_posTags))\n",
    "\n",
    "\n",
    "file = open('data_pickles/train_test_val_GPT', 'rb')\n",
    "X_gpt_train_posTags, X_gpt_test_posTags, X_gpt_val_posTags = pickle.load(file)\n",
    "file.close()\n",
    "\n",
    "Y_gpt_train = np.ones(len(X_gpt_train_posTags))\n",
    "Y_gpt_test = np.ones(len(X_gpt_test_posTags))\n",
    "Y_gpt_val = np.ones(len(X_gpt_val_posTags))"
   ]
  },
  {
   "cell_type": "code",
   "execution_count": 7,
   "metadata": {},
   "outputs": [
    {
     "data": {
      "text/plain": [
       "(435, 435, 95, 95, 93, 93)"
      ]
     },
     "execution_count": 7,
     "metadata": {},
     "output_type": "execute_result"
    }
   ],
   "source": [
    "len(X_human_train_posTags), len(Y_human_train), len(X_human_test_posTags), len(Y_human_test), len(X_human_val_posTags), len(Y_human_val)"
   ]
  },
  {
   "cell_type": "code",
   "execution_count": 8,
   "metadata": {},
   "outputs": [],
   "source": [
    "X_train = np.hstack((X_human_train_posTags, X_gpt_train_posTags))\n",
    "Y_train = np.hstack((Y_human_train, Y_gpt_train))\n",
    "\n",
    "X_test = np.hstack((X_human_test_posTags, X_gpt_test_posTags))\n",
    "Y_test = np.hstack((Y_human_test, Y_gpt_test))\n",
    "\n",
    "X_val = np.hstack((X_human_val_posTags, X_gpt_val_posTags))\n",
    "Y_val = np.hstack((Y_human_val, Y_gpt_val))"
   ]
  },
  {
   "cell_type": "code",
   "execution_count": 9,
   "metadata": {},
   "outputs": [
    {
     "data": {
      "text/plain": [
       "'Last month a controversial facial recognition company, Clearview AI, announced it had given its technology to the Ukrainian government. The BBC has been given evidence of how it is being used - in more than a thousand cases - to identify both the living and the dead.  This story contains graphic descriptions that may be upsetting to some readers. A man lies motionless on the floor, his head tilted down. His body is naked, apart from a pair of Calvin Klein boxers. His eyes are ringed with what look like bruises. The body was found in Kharkiv, eastern Ukraine - in the wreckage of war. The BBC has seen pictures taken at the scene, but does not know the circumstances around his death. There is clear evidence of head trauma. He also had a tattoo on his left shoulder.  Ukrainian authorities didn\\'t know who the man was, so decided to turn to a cutting edge method: facial recognition using artificial intelligence.  Clearview is perhaps the most famous, and controversial, facial recognition system in the world.  The company has scraped billions of photos from social media companies, like Facebook and Twitter, to create an enormous database of what its CEO and founder Hoan Ton-That calls \"a search engine for faces\". \"It kind of works like Google. But instead of putting in a string of words or text, the user puts in a photo of a face,\" explains Mr Ton-That. The company has faced a string of legal challenges. Facebook, YouTube, Google and Twitter have sent cease-and-desist letters to Clearview - to ask them to stop using pictures from the sites. The UK\\'s Information Commissioner\\'s Office even fined the company for failing to inform people it was collecting photos of them. Now, its use by the Ukrainian government has raised questions over the implications of infusing this powerful technology into an active war. Clearview is used extensively - though divisively - by law enforcement in America. Ton-That says 3,200 government agencies have either bought or trialled the technology. After Vladimir Putin\\'s invasion of Ukraine, Clearview\\'s founder saw another application for the technology.  \"We saw images of people who were prisoners of war and fleeing situations, and you know, it got us thinking that this could potentially be a technology that could be useful for identification, and also verification,\" he says. He quickly offered the Ukrainian government the technology - an offer that was accepted.  Back in Kharkiv, authorities took a picture of the dead man\\'s face - his head held up, his sunken eyes directed towards the camera.  They snapped a picture, and ran it through Clearview\\'s database. The search returned several pictures of someone who looked very similar to the dead man.  One picture had been taken on what looks like a hot day. The man was shirtless. He had a tattoo on his left shoulder.  The design matched. They had a name.  Using facial recognition to identify the dead is not new, and Clearview isn\\'t the only platform being used to do it in Ukraine. \"We\\'ve been using this stuff for years now\" says Aric Toler, research director at Bellingcat, an organisation that specialises in investigative journalism.  In 2019, Bellingcat used facial recognition technology to help identify a Russian man who had filmed the torture and killing of a prisoner in Syria. This is not facial recognition\\'s first war. But its use in Ukraine is more wide-ranging than in any previous conflict. Mr Toler says that he uses the facial recognition platform FindClone in Russia, and that it\\'s been particularly helpful for identifying dead Russian soldiers.  As with Clearview, FindClone searches through publicly available internet images, including Russian social media pages. Even people who do not have social accounts can be found. \"They might not have a social media profile but their wives or girlfriends might… sometimes they do have profiles and they live in a small town with a big military base. Or they may have a lot of friends who are currently in their unit\", Mr Toler explains, describing FindClone\\'s use as an investigative tool.  This last point is fundamental in understanding the power of facial recognition technology. It means that even if a person has never had a social media profile, and thinks they\\'ve wiped the internet clean of their image - they can still be found. By appearing in a photo uploaded by a friend or simply by being in the background of a random picture on the internet, they are in the database. It means even military or security personnel, who barely have any presence on the internet, can still be traced.  A question of accuracy Critics however point out that facial recognition technology is by no means always correct - and that in a time of war, errors could have potentially disastrous consequences. Clearview isn\\'t just being used to identify dead bodies in Ukraine. The company also confirmed it was being used by the Ukrainian government at checkpoints to help identify enemy suspects. Clearview showed the BBC an email, from a Ukrainian agency, confirming that the system was being used to identify the living. \"The system gave us the opportunity to quickly confirm the accuracy of the data of detained suspects\" reads the email, from a Ukrainian official who did not want to be named.  \"During the use of Clearview AI, more than 1,000 search queries were performed to conduct the appropriate verification and identification,\" the email reads.  This worries some analysts. Conor Healy is a facial recognition expert at IPVM, an organisation that reviews security technology. \"It\\'s important for the Ukrainian forces to recognise that this is not a 100% accurate way of determining whether somebody is your friend or your foe,\" Mr Healy says. \"It shouldn\\'t be a life or death technology where you either pass or fail, where you could get imprisoned or, god forbid, even killed. That\\'s not how this should be used at all.\" Others have issued more dire warnings. Albert Fox Cahn, of the watchdog group Surveillance Technology Oversight Project, has called it \"a human rights catastrophe in the making\".  \"When facial recognition makes mistakes in peacetime, people are wrongly arrested. When facial recognition makes mistakes in a war zone, innocent people get shot,\" he told Forbes. The BBC contacted the Ukrainian government for comment on its use of Clearview, but did not receive a response. Mr Ton-That has defended the accuracy of Clearview\\'s technology, saying tests had found it to be more than 99% accurate.   Much depends though on the quality of the image, the position of the head, or whether the face is covered, for example by a mask. Then there is the issue of privacy, which has been problematic for Clearview in the US and Europe. The company pulls publicly available pictures from firms like Facebook and Instagram to build its database. But it didn\\'t ask social media companies, or anyone in fact, whether it could scrape these pictures. If you are reading this, you are almost certainly in the database, though you likely didn\\'t give Clearview permission to use your image. Last year, Clearview was fined by the UK\\'s Information Commissioner\\'s Office for failing to inform people that it was collecting photos of them from social media platforms.  Mr Ton-That accepts there is still debate around the legality of facial recognition technology, but believes Clearview operates within the law - saying the technology has been \"misunderstood\".  Facial recognition technology, though, clearly has dystopian applications. In November last year the BBC reported that plans were being drawn up in China to use facial recognition tech to target journalists.  Mr Ton-That says Clearview wouldn\\'t allow these kinds of searches, even if they could be used this way. He says Clearview does not work with authoritarian governments and that the company would not work with Russia.  There are, however, applications for Clearview\\'s tech in a military context. Last year the company signed a contract with the Pentagon to explore putting its tech into augmented reality glasses for example. It is one of several companies developing facial recognition AI with military contracts. Privacy advocates have another worry too. Facial recognition technology might be useful to the Ukrainian authorities in a time of war. But will they simply hand the technology back to Clearview in a time of peace?  \"There are any number of examples of technologies that are introduced in wartime and that persist into peacetime,\" says Mr Healy.  \"I hope that that\\'s not the approach they take.\" James Clayton is the BBC\\'s North America technology reporter based in San Francisco. Follow him on Twitter @jamesclayton5. '"
      ]
     },
     "execution_count": 9,
     "metadata": {},
     "output_type": "execute_result"
    }
   ],
   "source": [
    "X_train[0]"
   ]
  },
  {
   "cell_type": "code",
   "execution_count": 11,
   "metadata": {},
   "outputs": [],
   "source": [
    "a = nltk.word_tokenize(X_train[0])"
   ]
  },
  {
   "cell_type": "code",
   "execution_count": 20,
   "metadata": {},
   "outputs": [],
   "source": [
    "train_tokens = [len(nltk.word_tokenize(text)) for text in X_train]\n",
    "val_tokens = [len(nltk.word_tokenize(text)) for text in X_val]\n",
    "test_tokens = [len(nltk.word_tokenize(text)) for text in X_test]\n"
   ]
  },
  {
   "cell_type": "code",
   "execution_count": 62,
   "metadata": {},
   "outputs": [
    {
     "data": {
      "text/plain": [
       "(870, 186, 190)"
      ]
     },
     "execution_count": 62,
     "metadata": {},
     "output_type": "execute_result"
    }
   ],
   "source": [
    "len(train_tokens), len(val_tokens), len(test_tokens), "
   ]
  },
  {
   "cell_type": "code",
   "execution_count": 42,
   "metadata": {},
   "outputs": [],
   "source": [
    "train_tokens_df = pd.DataFrame(train_tokens)\n",
    "val_tokens_df = pd.DataFrame(val_tokens)\n",
    "test_tokens_df = pd.DataFrame(test_tokens)\n"
   ]
  },
  {
   "cell_type": "code",
   "execution_count": 43,
   "metadata": {},
   "outputs": [
    {
     "data": {
      "text/html": [
       "<div>\n",
       "<style scoped>\n",
       "    .dataframe tbody tr th:only-of-type {\n",
       "        vertical-align: middle;\n",
       "    }\n",
       "\n",
       "    .dataframe tbody tr th {\n",
       "        vertical-align: top;\n",
       "    }\n",
       "\n",
       "    .dataframe thead th {\n",
       "        text-align: right;\n",
       "    }\n",
       "</style>\n",
       "<table border=\"1\" class=\"dataframe\">\n",
       "  <thead>\n",
       "    <tr style=\"text-align: right;\">\n",
       "      <th></th>\n",
       "      <th>Number of Tokens</th>\n",
       "    </tr>\n",
       "  </thead>\n",
       "  <tbody>\n",
       "    <tr>\n",
       "      <th>0</th>\n",
       "      <td>1641</td>\n",
       "    </tr>\n",
       "    <tr>\n",
       "      <th>1</th>\n",
       "      <td>1330</td>\n",
       "    </tr>\n",
       "    <tr>\n",
       "      <th>2</th>\n",
       "      <td>597</td>\n",
       "    </tr>\n",
       "    <tr>\n",
       "      <th>3</th>\n",
       "      <td>861</td>\n",
       "    </tr>\n",
       "    <tr>\n",
       "      <th>4</th>\n",
       "      <td>436</td>\n",
       "    </tr>\n",
       "  </tbody>\n",
       "</table>\n",
       "</div>"
      ],
      "text/plain": [
       "   Number of Tokens\n",
       "0              1641\n",
       "1              1330\n",
       "2               597\n",
       "3               861\n",
       "4               436"
      ]
     },
     "execution_count": 43,
     "metadata": {},
     "output_type": "execute_result"
    }
   ],
   "source": [
    "train_tokens_df = train_tokens_df.rename(columns={0: 'Number of Tokens'})\n",
    "val_tokens_df = val_tokens_df.rename(columns={0: 'Number of Tokens'})\n",
    "test_tokens_df = test_tokens_df.rename(columns={0: 'Number of Tokens'})\n",
    "\n",
    "train_tokens_df.head()"
   ]
  },
  {
   "cell_type": "code",
   "execution_count": 53,
   "metadata": {},
   "outputs": [],
   "source": [
    "file = 'dataset.csv'\n",
    "with open(file, 'a', encoding=\"utf-8\") as file:\n",
    "      writer = csv.writer(file)\n",
    "    #   writer.writerow(['Number of Tokens', 'set'])\n",
    "      for n in test_tokens:\n",
    "        writer.writerow([n, 'Test'])"
   ]
  },
  {
   "cell_type": "code",
   "execution_count": 58,
   "metadata": {},
   "outputs": [],
   "source": [
    "dataset_df = pd.read_csv(\"dataset.csv\")\n",
    "dataset_df = dataset_df.rename(columns={'set': 'Set'})"
   ]
  },
  {
   "cell_type": "code",
   "execution_count": 59,
   "metadata": {},
   "outputs": [
    {
     "data": {
      "text/html": [
       "<div>\n",
       "<style scoped>\n",
       "    .dataframe tbody tr th:only-of-type {\n",
       "        vertical-align: middle;\n",
       "    }\n",
       "\n",
       "    .dataframe tbody tr th {\n",
       "        vertical-align: top;\n",
       "    }\n",
       "\n",
       "    .dataframe thead th {\n",
       "        text-align: right;\n",
       "    }\n",
       "</style>\n",
       "<table border=\"1\" class=\"dataframe\">\n",
       "  <thead>\n",
       "    <tr style=\"text-align: right;\">\n",
       "      <th></th>\n",
       "      <th>Number of Tokens</th>\n",
       "      <th>Set</th>\n",
       "    </tr>\n",
       "  </thead>\n",
       "  <tbody>\n",
       "    <tr>\n",
       "      <th>0</th>\n",
       "      <td>1641</td>\n",
       "      <td>Train</td>\n",
       "    </tr>\n",
       "    <tr>\n",
       "      <th>1</th>\n",
       "      <td>1330</td>\n",
       "      <td>Train</td>\n",
       "    </tr>\n",
       "    <tr>\n",
       "      <th>2</th>\n",
       "      <td>597</td>\n",
       "      <td>Train</td>\n",
       "    </tr>\n",
       "    <tr>\n",
       "      <th>3</th>\n",
       "      <td>861</td>\n",
       "      <td>Train</td>\n",
       "    </tr>\n",
       "    <tr>\n",
       "      <th>4</th>\n",
       "      <td>436</td>\n",
       "      <td>Train</td>\n",
       "    </tr>\n",
       "  </tbody>\n",
       "</table>\n",
       "</div>"
      ],
      "text/plain": [
       "   Number of Tokens    Set\n",
       "0              1641  Train\n",
       "1              1330  Train\n",
       "2               597  Train\n",
       "3               861  Train\n",
       "4               436  Train"
      ]
     },
     "execution_count": 59,
     "metadata": {},
     "output_type": "execute_result"
    }
   ],
   "source": [
    "dataset_df.head()"
   ]
  },
  {
   "cell_type": "code",
   "execution_count": 61,
   "metadata": {},
   "outputs": [
    {
     "data": {
      "application/vnd.plotly.v1+json": {
       "config": {
        "plotlyServerURL": "https://plot.ly"
       },
       "data": [
        {
         "alignmentgroup": "True",
         "box": {
          "visible": true
         },
         "hovertemplate": "Set=%{x}<br>Number of Tokens=%{y}<extra></extra>",
         "legendgroup": "Train",
         "marker": {
          "color": "#636efa"
         },
         "name": "Train",
         "offsetgroup": "Train",
         "orientation": "v",
         "points": false,
         "scalegroup": "True",
         "showlegend": true,
         "type": "violin",
         "x": [
          "Train",
          "Train",
          "Train",
          "Train",
          "Train",
          "Train",
          "Train",
          "Train",
          "Train",
          "Train",
          "Train",
          "Train",
          "Train",
          "Train",
          "Train",
          "Train",
          "Train",
          "Train",
          "Train",
          "Train",
          "Train",
          "Train",
          "Train",
          "Train",
          "Train",
          "Train",
          "Train",
          "Train",
          "Train",
          "Train",
          "Train",
          "Train",
          "Train",
          "Train",
          "Train",
          "Train",
          "Train",
          "Train",
          "Train",
          "Train",
          "Train",
          "Train",
          "Train",
          "Train",
          "Train",
          "Train",
          "Train",
          "Train",
          "Train",
          "Train",
          "Train",
          "Train",
          "Train",
          "Train",
          "Train",
          "Train",
          "Train",
          "Train",
          "Train",
          "Train",
          "Train",
          "Train",
          "Train",
          "Train",
          "Train",
          "Train",
          "Train",
          "Train",
          "Train",
          "Train",
          "Train",
          "Train",
          "Train",
          "Train",
          "Train",
          "Train",
          "Train",
          "Train",
          "Train",
          "Train",
          "Train",
          "Train",
          "Train",
          "Train",
          "Train",
          "Train",
          "Train",
          "Train",
          "Train",
          "Train",
          "Train",
          "Train",
          "Train",
          "Train",
          "Train",
          "Train",
          "Train",
          "Train",
          "Train",
          "Train",
          "Train",
          "Train",
          "Train",
          "Train",
          "Train",
          "Train",
          "Train",
          "Train",
          "Train",
          "Train",
          "Train",
          "Train",
          "Train",
          "Train",
          "Train",
          "Train",
          "Train",
          "Train",
          "Train",
          "Train",
          "Train",
          "Train",
          "Train",
          "Train",
          "Train",
          "Train",
          "Train",
          "Train",
          "Train",
          "Train",
          "Train",
          "Train",
          "Train",
          "Train",
          "Train",
          "Train",
          "Train",
          "Train",
          "Train",
          "Train",
          "Train",
          "Train",
          "Train",
          "Train",
          "Train",
          "Train",
          "Train",
          "Train",
          "Train",
          "Train",
          "Train",
          "Train",
          "Train",
          "Train",
          "Train",
          "Train",
          "Train",
          "Train",
          "Train",
          "Train",
          "Train",
          "Train",
          "Train",
          "Train",
          "Train",
          "Train",
          "Train",
          "Train",
          "Train",
          "Train",
          "Train",
          "Train",
          "Train",
          "Train",
          "Train",
          "Train",
          "Train",
          "Train",
          "Train",
          "Train",
          "Train",
          "Train",
          "Train",
          "Train",
          "Train",
          "Train",
          "Train",
          "Train",
          "Train",
          "Train",
          "Train",
          "Train",
          "Train",
          "Train",
          "Train",
          "Train",
          "Train",
          "Train",
          "Train",
          "Train",
          "Train",
          "Train",
          "Train",
          "Train",
          "Train",
          "Train",
          "Train",
          "Train",
          "Train",
          "Train",
          "Train",
          "Train",
          "Train",
          "Train",
          "Train",
          "Train",
          "Train",
          "Train",
          "Train",
          "Train",
          "Train",
          "Train",
          "Train",
          "Train",
          "Train",
          "Train",
          "Train",
          "Train",
          "Train",
          "Train",
          "Train",
          "Train",
          "Train",
          "Train",
          "Train",
          "Train",
          "Train",
          "Train",
          "Train",
          "Train",
          "Train",
          "Train",
          "Train",
          "Train",
          "Train",
          "Train",
          "Train",
          "Train",
          "Train",
          "Train",
          "Train",
          "Train",
          "Train",
          "Train",
          "Train",
          "Train",
          "Train",
          "Train",
          "Train",
          "Train",
          "Train",
          "Train",
          "Train",
          "Train",
          "Train",
          "Train",
          "Train",
          "Train",
          "Train",
          "Train",
          "Train",
          "Train",
          "Train",
          "Train",
          "Train",
          "Train",
          "Train",
          "Train",
          "Train",
          "Train",
          "Train",
          "Train",
          "Train",
          "Train",
          "Train",
          "Train",
          "Train",
          "Train",
          "Train",
          "Train",
          "Train",
          "Train",
          "Train",
          "Train",
          "Train",
          "Train",
          "Train",
          "Train",
          "Train",
          "Train",
          "Train",
          "Train",
          "Train",
          "Train",
          "Train",
          "Train",
          "Train",
          "Train",
          "Train",
          "Train",
          "Train",
          "Train",
          "Train",
          "Train",
          "Train",
          "Train",
          "Train",
          "Train",
          "Train",
          "Train",
          "Train",
          "Train",
          "Train",
          "Train",
          "Train",
          "Train",
          "Train",
          "Train",
          "Train",
          "Train",
          "Train",
          "Train",
          "Train",
          "Train",
          "Train",
          "Train",
          "Train",
          "Train",
          "Train",
          "Train",
          "Train",
          "Train",
          "Train",
          "Train",
          "Train",
          "Train",
          "Train",
          "Train",
          "Train",
          "Train",
          "Train",
          "Train",
          "Train",
          "Train",
          "Train",
          "Train",
          "Train",
          "Train",
          "Train",
          "Train",
          "Train",
          "Train",
          "Train",
          "Train",
          "Train",
          "Train",
          "Train",
          "Train",
          "Train",
          "Train",
          "Train",
          "Train",
          "Train",
          "Train",
          "Train",
          "Train",
          "Train",
          "Train",
          "Train",
          "Train",
          "Train",
          "Train",
          "Train",
          "Train",
          "Train",
          "Train",
          "Train",
          "Train",
          "Train",
          "Train",
          "Train",
          "Train",
          "Train",
          "Train",
          "Train",
          "Train",
          "Train",
          "Train",
          "Train",
          "Train",
          "Train",
          "Train",
          "Train",
          "Train",
          "Train",
          "Train",
          "Train",
          "Train",
          "Train",
          "Train",
          "Train",
          "Train",
          "Train",
          "Train",
          "Train",
          "Train",
          "Train",
          "Train",
          "Train",
          "Train",
          "Train",
          "Train",
          "Train",
          "Train",
          "Train",
          "Train",
          "Train",
          "Train",
          "Train",
          "Train",
          "Train",
          "Train",
          "Train",
          "Train",
          "Train",
          "Train",
          "Train",
          "Train",
          "Train",
          "Train",
          "Train",
          "Train",
          "Train",
          "Train",
          "Train",
          "Train",
          "Train",
          "Train",
          "Train",
          "Train",
          "Train",
          "Train",
          "Train",
          "Train",
          "Train",
          "Train",
          "Train",
          "Train",
          "Train",
          "Train",
          "Train",
          "Train",
          "Train",
          "Train",
          "Train",
          "Train",
          "Train",
          "Train",
          "Train",
          "Train",
          "Train",
          "Train",
          "Train",
          "Train",
          "Train",
          "Train",
          "Train",
          "Train",
          "Train",
          "Train",
          "Train",
          "Train",
          "Train",
          "Train",
          "Train",
          "Train",
          "Train",
          "Train",
          "Train",
          "Train",
          "Train",
          "Train",
          "Train",
          "Train",
          "Train",
          "Train",
          "Train",
          "Train",
          "Train",
          "Train",
          "Train",
          "Train",
          "Train",
          "Train",
          "Train",
          "Train",
          "Train",
          "Train",
          "Train",
          "Train",
          "Train",
          "Train",
          "Train",
          "Train",
          "Train",
          "Train",
          "Train",
          "Train",
          "Train",
          "Train",
          "Train",
          "Train",
          "Train",
          "Train",
          "Train",
          "Train",
          "Train",
          "Train",
          "Train",
          "Train",
          "Train",
          "Train",
          "Train",
          "Train",
          "Train",
          "Train",
          "Train",
          "Train",
          "Train",
          "Train",
          "Train",
          "Train",
          "Train",
          "Train",
          "Train",
          "Train",
          "Train",
          "Train",
          "Train",
          "Train",
          "Train",
          "Train",
          "Train",
          "Train",
          "Train",
          "Train",
          "Train",
          "Train",
          "Train",
          "Train",
          "Train",
          "Train",
          "Train",
          "Train",
          "Train",
          "Train",
          "Train",
          "Train",
          "Train",
          "Train",
          "Train",
          "Train",
          "Train",
          "Train",
          "Train",
          "Train",
          "Train",
          "Train",
          "Train",
          "Train",
          "Train",
          "Train",
          "Train",
          "Train",
          "Train",
          "Train",
          "Train",
          "Train",
          "Train",
          "Train",
          "Train",
          "Train",
          "Train",
          "Train",
          "Train",
          "Train",
          "Train",
          "Train",
          "Train",
          "Train",
          "Train",
          "Train",
          "Train",
          "Train",
          "Train",
          "Train",
          "Train",
          "Train",
          "Train",
          "Train",
          "Train",
          "Train",
          "Train",
          "Train",
          "Train",
          "Train",
          "Train",
          "Train",
          "Train",
          "Train",
          "Train",
          "Train",
          "Train",
          "Train",
          "Train",
          "Train",
          "Train",
          "Train",
          "Train",
          "Train",
          "Train",
          "Train",
          "Train",
          "Train",
          "Train",
          "Train",
          "Train",
          "Train",
          "Train",
          "Train",
          "Train",
          "Train",
          "Train",
          "Train",
          "Train",
          "Train",
          "Train",
          "Train",
          "Train",
          "Train",
          "Train",
          "Train",
          "Train",
          "Train",
          "Train",
          "Train",
          "Train",
          "Train",
          "Train",
          "Train",
          "Train",
          "Train",
          "Train",
          "Train",
          "Train",
          "Train",
          "Train",
          "Train",
          "Train",
          "Train",
          "Train",
          "Train",
          "Train",
          "Train",
          "Train",
          "Train",
          "Train",
          "Train",
          "Train",
          "Train",
          "Train",
          "Train",
          "Train",
          "Train",
          "Train",
          "Train",
          "Train",
          "Train",
          "Train",
          "Train",
          "Train",
          "Train",
          "Train",
          "Train",
          "Train",
          "Train",
          "Train",
          "Train",
          "Train",
          "Train",
          "Train",
          "Train",
          "Train",
          "Train",
          "Train",
          "Train",
          "Train",
          "Train",
          "Train",
          "Train",
          "Train",
          "Train",
          "Train",
          "Train",
          "Train",
          "Train",
          "Train",
          "Train",
          "Train",
          "Train",
          "Train",
          "Train",
          "Train",
          "Train",
          "Train",
          "Train",
          "Train",
          "Train",
          "Train",
          "Train",
          "Train",
          "Train",
          "Train",
          "Train",
          "Train",
          "Train",
          "Train",
          "Train",
          "Train",
          "Train",
          "Train",
          "Train",
          "Train",
          "Train",
          "Train",
          "Train",
          "Train",
          "Train",
          "Train",
          "Train",
          "Train",
          "Train",
          "Train",
          "Train",
          "Train",
          "Train",
          "Train",
          "Train",
          "Train",
          "Train",
          "Train",
          "Train",
          "Train",
          "Train",
          "Train",
          "Train",
          "Train",
          "Train",
          "Train",
          "Train",
          "Train",
          "Train",
          "Train",
          "Train",
          "Train",
          "Train",
          "Train",
          "Train",
          "Train",
          "Train",
          "Train",
          "Train",
          "Train",
          "Train",
          "Train",
          "Train",
          "Train",
          "Train",
          "Train",
          "Train",
          "Train",
          "Train",
          "Train",
          "Train",
          "Train",
          "Train",
          "Train",
          "Train",
          "Train",
          "Train",
          "Train",
          "Train",
          "Train",
          "Train",
          "Train",
          "Train",
          "Train",
          "Train",
          "Train",
          "Train",
          "Train",
          "Train",
          "Train",
          "Train",
          "Train",
          "Train",
          "Train",
          "Train",
          "Train",
          "Train",
          "Train",
          "Train",
          "Train",
          "Train",
          "Train",
          "Train",
          "Train",
          "Train",
          "Train",
          "Train",
          "Train",
          "Train",
          "Train",
          "Train",
          "Train",
          "Train",
          "Train",
          "Train",
          "Train",
          "Train",
          "Train",
          "Train",
          "Train",
          "Train",
          "Train",
          "Train",
          "Train",
          "Train",
          "Train",
          "Train",
          "Train",
          "Train",
          "Train",
          "Train",
          "Train",
          "Train",
          "Train",
          "Train",
          "Train",
          "Train",
          "Train",
          "Train",
          "Train",
          "Train",
          "Train",
          "Train",
          "Train",
          "Train",
          "Train",
          "Train"
         ],
         "x0": " ",
         "xaxis": "x",
         "y": [
          1641,
          1330,
          597,
          861,
          436,
          1079,
          1028,
          919,
          1283,
          487,
          297,
          732,
          578,
          669,
          1243,
          937,
          459,
          1953,
          1231,
          295,
          500,
          499,
          821,
          417,
          932,
          1273,
          624,
          543,
          1251,
          1202,
          787,
          683,
          622,
          749,
          1098,
          376,
          562,
          528,
          757,
          896,
          448,
          979,
          988,
          976,
          445,
          496,
          510,
          1062,
          1283,
          811,
          455,
          684,
          660,
          1109,
          1067,
          818,
          949,
          732,
          558,
          361,
          1746,
          412,
          411,
          1063,
          859,
          1084,
          242,
          463,
          1050,
          905,
          888,
          638,
          1298,
          552,
          1140,
          1394,
          506,
          1109,
          816,
          393,
          323,
          864,
          1183,
          1125,
          404,
          535,
          1439,
          890,
          378,
          468,
          772,
          1166,
          789,
          649,
          1064,
          578,
          1055,
          2522,
          1215,
          1157,
          355,
          880,
          457,
          414,
          967,
          286,
          548,
          1166,
          2037,
          2920,
          1316,
          738,
          1115,
          1242,
          753,
          374,
          860,
          401,
          1323,
          1362,
          455,
          635,
          467,
          296,
          1019,
          832,
          281,
          635,
          1221,
          345,
          1134,
          861,
          261,
          356,
          832,
          1245,
          1462,
          376,
          469,
          707,
          821,
          1258,
          985,
          721,
          1025,
          671,
          377,
          292,
          1026,
          489,
          1168,
          614,
          679,
          843,
          1414,
          918,
          1133,
          428,
          1538,
          1028,
          1383,
          370,
          805,
          673,
          783,
          586,
          555,
          930,
          150,
          464,
          855,
          136,
          1373,
          645,
          358,
          118,
          539,
          1128,
          916,
          295,
          1796,
          1760,
          1010,
          789,
          781,
          1017,
          1301,
          709,
          913,
          1587,
          779,
          513,
          670,
          833,
          491,
          986,
          517,
          1852,
          797,
          629,
          1103,
          741,
          404,
          292,
          717,
          919,
          486,
          1405,
          881,
          400,
          630,
          1401,
          1201,
          722,
          1487,
          915,
          674,
          561,
          1566,
          1096,
          670,
          500,
          607,
          741,
          1089,
          690,
          314,
          675,
          993,
          530,
          467,
          407,
          1452,
          848,
          623,
          1265,
          1220,
          654,
          2525,
          563,
          1209,
          662,
          900,
          644,
          384,
          1204,
          228,
          262,
          563,
          843,
          859,
          847,
          1344,
          916,
          515,
          654,
          679,
          1804,
          1095,
          2336,
          1078,
          806,
          230,
          904,
          342,
          591,
          1550,
          398,
          1340,
          836,
          1058,
          1747,
          825,
          519,
          393,
          643,
          385,
          758,
          781,
          506,
          207,
          931,
          773,
          910,
          1324,
          385,
          340,
          529,
          480,
          1257,
          665,
          627,
          376,
          729,
          1114,
          1012,
          914,
          1142,
          552,
          609,
          427,
          347,
          1145,
          509,
          495,
          332,
          683,
          1026,
          735,
          771,
          936,
          548,
          584,
          752,
          253,
          767,
          745,
          439,
          352,
          360,
          535,
          499,
          440,
          676,
          1220,
          492,
          316,
          308,
          412,
          604,
          1857,
          1209,
          530,
          421,
          2269,
          1205,
          437,
          497,
          403,
          874,
          445,
          1127,
          307,
          989,
          589,
          563,
          434,
          834,
          343,
          1016,
          344,
          266,
          422,
          307,
          438,
          336,
          1799,
          823,
          405,
          225,
          1055,
          694,
          708,
          1482,
          858,
          842,
          956,
          352,
          717,
          369,
          421,
          871,
          755,
          722,
          850,
          873,
          2068,
          485,
          1328,
          505,
          227,
          382,
          332,
          2973,
          1386,
          1202,
          580,
          705,
          914,
          420,
          583,
          1125,
          839,
          560,
          611,
          432,
          378,
          1539,
          1318,
          574,
          663,
          1015,
          385,
          525,
          456,
          646,
          402,
          431,
          576,
          646,
          340,
          1565,
          1299,
          674,
          796,
          335,
          706,
          1014,
          1192,
          712,
          509,
          1603,
          1046,
          382,
          1248,
          897,
          454,
          1886,
          254,
          404,
          860,
          279,
          451,
          461,
          562,
          688,
          749,
          553,
          769,
          561,
          609,
          619,
          834,
          342,
          806,
          381,
          656,
          420,
          563,
          343,
          825,
          803,
          592,
          647,
          550,
          790,
          593,
          599,
          486,
          493,
          656,
          555,
          636,
          506,
          655,
          606,
          421,
          907,
          678,
          398,
          328,
          623,
          572,
          574,
          469,
          654,
          531,
          382,
          567,
          711,
          658,
          937,
          866,
          764,
          372,
          423,
          663,
          799,
          558,
          576,
          608,
          473,
          501,
          209,
          447,
          567,
          381,
          673,
          665,
          994,
          460,
          462,
          391,
          704,
          1144,
          772,
          443,
          556,
          977,
          674,
          766,
          634,
          635,
          678,
          685,
          431,
          611,
          655,
          666,
          505,
          806,
          673,
          709,
          786,
          462,
          632,
          768,
          722,
          612,
          621,
          634,
          598,
          770,
          375,
          880,
          373,
          390,
          546,
          599,
          525,
          456,
          689,
          701,
          667,
          655,
          368,
          703,
          720,
          541,
          474,
          641,
          540,
          601,
          573,
          322,
          425,
          289,
          415,
          204,
          575,
          391,
          603,
          494,
          517,
          1069,
          657,
          666,
          506,
          401,
          802,
          659,
          631,
          348,
          701,
          626,
          597,
          340,
          467,
          708,
          768,
          428,
          672,
          353,
          514,
          443,
          528,
          534,
          720,
          683,
          516,
          593,
          519,
          524,
          489,
          481,
          691,
          524,
          708,
          467,
          417,
          385,
          736,
          607,
          522,
          316,
          790,
          608,
          612,
          496,
          651,
          777,
          406,
          449,
          741,
          596,
          770,
          647,
          178,
          503,
          302,
          690,
          480,
          584,
          451,
          676,
          692,
          546,
          544,
          823,
          711,
          438,
          594,
          613,
          540,
          500,
          756,
          623,
          570,
          713,
          786,
          449,
          583,
          612,
          526,
          720,
          455,
          639,
          693,
          332,
          255,
          491,
          684,
          728,
          634,
          352,
          577,
          559,
          1462,
          351,
          593,
          683,
          580,
          520,
          642,
          327,
          710,
          445,
          465,
          598,
          482,
          675,
          621,
          337,
          583,
          545,
          575,
          681,
          630,
          722,
          573,
          702,
          535,
          617,
          653,
          584,
          445,
          729,
          654,
          675,
          457,
          646,
          676,
          711,
          678,
          814,
          591,
          396,
          632,
          671,
          549,
          596,
          665,
          548,
          522,
          619,
          438,
          483,
          665,
          481,
          534,
          865,
          451,
          559,
          500,
          491,
          644,
          653,
          683,
          315,
          420,
          555,
          785,
          745,
          628,
          562,
          421,
          783,
          799,
          471,
          671,
          759,
          551,
          597,
          470,
          604,
          732,
          771,
          352,
          386,
          777,
          512,
          559,
          617,
          601,
          606,
          491,
          578,
          571,
          610,
          434,
          578,
          564,
          505,
          484,
          580,
          367,
          579,
          440,
          443,
          422,
          677,
          440,
          331,
          788,
          417,
          493,
          503,
          588,
          444,
          836,
          518,
          825,
          640,
          668,
          355,
          650,
          810,
          359,
          398,
          553,
          556,
          422,
          865,
          523,
          658,
          394,
          638,
          684,
          662,
          414,
          393,
          423,
          810,
          500,
          541,
          470,
          661,
          499,
          593,
          515,
          509,
          505,
          796,
          583,
          557,
          319,
          589,
          737,
          411,
          678,
          471,
          498,
          464,
          715,
          724,
          540,
          458,
          483,
          435,
          460,
          761,
          750,
          571,
          570,
          356,
          578,
          398,
          711,
          365,
          499,
          268,
          538,
          314,
          783,
          571,
          529,
          584,
          385,
          444,
          624,
          533,
          465,
          629,
          706,
          388,
          323,
          446,
          525,
          751,
          570,
          745,
          742,
          444,
          663,
          668,
          511,
          763,
          482,
          472,
          577,
          679,
          599,
          507,
          489,
          443,
          543,
          649,
          304,
          585,
          648
         ],
         "y0": " ",
         "yaxis": "y"
        },
        {
         "alignmentgroup": "True",
         "box": {
          "visible": true
         },
         "hovertemplate": "Set=%{x}<br>Number of Tokens=%{y}<extra></extra>",
         "legendgroup": "Validation",
         "marker": {
          "color": "#EF553B"
         },
         "name": "Validation",
         "offsetgroup": "Validation",
         "orientation": "v",
         "points": false,
         "scalegroup": "True",
         "showlegend": true,
         "type": "violin",
         "x": [
          "Validation",
          "Validation",
          "Validation",
          "Validation",
          "Validation",
          "Validation",
          "Validation",
          "Validation",
          "Validation",
          "Validation",
          "Validation",
          "Validation",
          "Validation",
          "Validation",
          "Validation",
          "Validation",
          "Validation",
          "Validation",
          "Validation",
          "Validation",
          "Validation",
          "Validation",
          "Validation",
          "Validation",
          "Validation",
          "Validation",
          "Validation",
          "Validation",
          "Validation",
          "Validation",
          "Validation",
          "Validation",
          "Validation",
          "Validation",
          "Validation",
          "Validation",
          "Validation",
          "Validation",
          "Validation",
          "Validation",
          "Validation",
          "Validation",
          "Validation",
          "Validation",
          "Validation",
          "Validation",
          "Validation",
          "Validation",
          "Validation",
          "Validation",
          "Validation",
          "Validation",
          "Validation",
          "Validation",
          "Validation",
          "Validation",
          "Validation",
          "Validation",
          "Validation",
          "Validation",
          "Validation",
          "Validation",
          "Validation",
          "Validation",
          "Validation",
          "Validation",
          "Validation",
          "Validation",
          "Validation",
          "Validation",
          "Validation",
          "Validation",
          "Validation",
          "Validation",
          "Validation",
          "Validation",
          "Validation",
          "Validation",
          "Validation",
          "Validation",
          "Validation",
          "Validation",
          "Validation",
          "Validation",
          "Validation",
          "Validation",
          "Validation",
          "Validation",
          "Validation",
          "Validation",
          "Validation",
          "Validation",
          "Validation",
          "Validation",
          "Validation",
          "Validation",
          "Validation",
          "Validation",
          "Validation",
          "Validation",
          "Validation",
          "Validation",
          "Validation",
          "Validation",
          "Validation",
          "Validation",
          "Validation",
          "Validation",
          "Validation",
          "Validation",
          "Validation",
          "Validation",
          "Validation",
          "Validation",
          "Validation",
          "Validation",
          "Validation",
          "Validation",
          "Validation",
          "Validation",
          "Validation",
          "Validation",
          "Validation",
          "Validation",
          "Validation",
          "Validation",
          "Validation",
          "Validation",
          "Validation",
          "Validation",
          "Validation",
          "Validation",
          "Validation",
          "Validation",
          "Validation",
          "Validation",
          "Validation",
          "Validation",
          "Validation",
          "Validation",
          "Validation",
          "Validation",
          "Validation",
          "Validation",
          "Validation",
          "Validation",
          "Validation",
          "Validation",
          "Validation",
          "Validation",
          "Validation",
          "Validation",
          "Validation",
          "Validation",
          "Validation",
          "Validation",
          "Validation",
          "Validation",
          "Validation",
          "Validation",
          "Validation",
          "Validation",
          "Validation",
          "Validation",
          "Validation",
          "Validation",
          "Validation",
          "Validation",
          "Validation",
          "Validation",
          "Validation",
          "Validation",
          "Validation",
          "Validation",
          "Validation",
          "Validation",
          "Validation",
          "Validation",
          "Validation",
          "Validation",
          "Validation",
          "Validation",
          "Validation",
          "Validation",
          "Validation",
          "Validation"
         ],
         "x0": " ",
         "xaxis": "x",
         "y": [
          1014,
          608,
          169,
          451,
          615,
          2286,
          458,
          1110,
          259,
          1106,
          1491,
          747,
          407,
          350,
          641,
          766,
          542,
          904,
          465,
          1305,
          788,
          334,
          587,
          997,
          1456,
          382,
          121,
          496,
          1199,
          599,
          1299,
          779,
          818,
          490,
          560,
          517,
          490,
          382,
          661,
          707,
          1501,
          606,
          623,
          632,
          1326,
          327,
          1205,
          257,
          709,
          575,
          1177,
          495,
          286,
          570,
          952,
          632,
          609,
          493,
          697,
          416,
          379,
          463,
          1166,
          1127,
          318,
          1296,
          829,
          629,
          806,
          314,
          354,
          371,
          1219,
          640,
          418,
          652,
          444,
          599,
          1297,
          1146,
          359,
          611,
          1519,
          690,
          624,
          1118,
          1405,
          1302,
          959,
          246,
          503,
          978,
          314,
          428,
          645,
          666,
          515,
          827,
          616,
          400,
          592,
          735,
          647,
          518,
          706,
          538,
          625,
          556,
          545,
          390,
          279,
          462,
          578,
          565,
          358,
          363,
          468,
          475,
          475,
          641,
          704,
          630,
          503,
          570,
          510,
          659,
          378,
          721,
          410,
          461,
          788,
          549,
          437,
          642,
          552,
          560,
          656,
          528,
          626,
          542,
          738,
          805,
          577,
          561,
          642,
          688,
          628,
          662,
          524,
          376,
          617,
          665,
          648,
          615,
          557,
          615,
          681,
          817,
          650,
          167,
          679,
          709,
          705,
          577,
          584,
          658,
          511,
          361,
          441,
          379,
          519,
          342,
          551,
          618,
          737,
          670,
          603,
          383,
          583,
          261,
          452,
          491,
          774,
          465,
          453,
          380
         ],
         "y0": " ",
         "yaxis": "y"
        },
        {
         "alignmentgroup": "True",
         "box": {
          "visible": true
         },
         "hovertemplate": "Set=%{x}<br>Number of Tokens=%{y}<extra></extra>",
         "legendgroup": "Test",
         "marker": {
          "color": "#00cc96"
         },
         "name": "Test",
         "offsetgroup": "Test",
         "orientation": "v",
         "points": false,
         "scalegroup": "True",
         "showlegend": true,
         "type": "violin",
         "x": [
          "Test",
          "Test",
          "Test",
          "Test",
          "Test",
          "Test",
          "Test",
          "Test",
          "Test",
          "Test",
          "Test",
          "Test",
          "Test",
          "Test",
          "Test",
          "Test",
          "Test",
          "Test",
          "Test",
          "Test",
          "Test",
          "Test",
          "Test",
          "Test",
          "Test",
          "Test",
          "Test",
          "Test",
          "Test",
          "Test",
          "Test",
          "Test",
          "Test",
          "Test",
          "Test",
          "Test",
          "Test",
          "Test",
          "Test",
          "Test",
          "Test",
          "Test",
          "Test",
          "Test",
          "Test",
          "Test",
          "Test",
          "Test",
          "Test",
          "Test",
          "Test",
          "Test",
          "Test",
          "Test",
          "Test",
          "Test",
          "Test",
          "Test",
          "Test",
          "Test",
          "Test",
          "Test",
          "Test",
          "Test",
          "Test",
          "Test",
          "Test",
          "Test",
          "Test",
          "Test",
          "Test",
          "Test",
          "Test",
          "Test",
          "Test",
          "Test",
          "Test",
          "Test",
          "Test",
          "Test",
          "Test",
          "Test",
          "Test",
          "Test",
          "Test",
          "Test",
          "Test",
          "Test",
          "Test",
          "Test",
          "Test",
          "Test",
          "Test",
          "Test",
          "Test",
          "Test",
          "Test",
          "Test",
          "Test",
          "Test",
          "Test",
          "Test",
          "Test",
          "Test",
          "Test",
          "Test",
          "Test",
          "Test",
          "Test",
          "Test",
          "Test",
          "Test",
          "Test",
          "Test",
          "Test",
          "Test",
          "Test",
          "Test",
          "Test",
          "Test",
          "Test",
          "Test",
          "Test",
          "Test",
          "Test",
          "Test",
          "Test",
          "Test",
          "Test",
          "Test",
          "Test",
          "Test",
          "Test",
          "Test",
          "Test",
          "Test",
          "Test",
          "Test",
          "Test",
          "Test",
          "Test",
          "Test",
          "Test",
          "Test",
          "Test",
          "Test",
          "Test",
          "Test",
          "Test",
          "Test",
          "Test",
          "Test",
          "Test",
          "Test",
          "Test",
          "Test",
          "Test",
          "Test",
          "Test",
          "Test",
          "Test",
          "Test",
          "Test",
          "Test",
          "Test",
          "Test",
          "Test",
          "Test",
          "Test",
          "Test",
          "Test",
          "Test",
          "Test",
          "Test",
          "Test",
          "Test",
          "Test",
          "Test",
          "Test",
          "Test",
          "Test",
          "Test",
          "Test",
          "Test",
          "Test",
          "Test",
          "Test",
          "Test",
          "Test",
          "Test"
         ],
         "x0": " ",
         "xaxis": "x",
         "y": [
          295,
          1422,
          688,
          459,
          1092,
          437,
          2366,
          449,
          804,
          789,
          486,
          416,
          972,
          776,
          737,
          1168,
          1019,
          669,
          989,
          1138,
          1282,
          570,
          527,
          196,
          650,
          228,
          675,
          191,
          1567,
          762,
          1429,
          568,
          424,
          658,
          531,
          1152,
          1269,
          1134,
          1281,
          343,
          698,
          877,
          598,
          631,
          809,
          410,
          1091,
          653,
          612,
          814,
          707,
          635,
          579,
          846,
          942,
          380,
          507,
          565,
          296,
          591,
          1061,
          2061,
          730,
          339,
          407,
          764,
          1807,
          950,
          779,
          931,
          322,
          815,
          525,
          663,
          371,
          1499,
          576,
          584,
          2120,
          917,
          1135,
          1069,
          664,
          1322,
          350,
          2728,
          333,
          670,
          419,
          1166,
          505,
          1348,
          1004,
          314,
          824,
          507,
          598,
          593,
          474,
          824,
          829,
          719,
          490,
          520,
          712,
          670,
          584,
          675,
          687,
          742,
          786,
          448,
          497,
          683,
          609,
          770,
          680,
          652,
          695,
          851,
          587,
          606,
          646,
          359,
          624,
          550,
          584,
          463,
          752,
          490,
          523,
          629,
          433,
          779,
          330,
          697,
          577,
          651,
          412,
          586,
          667,
          809,
          563,
          399,
          718,
          689,
          586,
          655,
          817,
          306,
          179,
          536,
          725,
          608,
          431,
          710,
          551,
          442,
          553,
          683,
          703,
          593,
          533,
          590,
          751,
          410,
          512,
          610,
          435,
          334,
          403,
          395,
          623,
          584,
          593,
          461,
          496,
          681,
          376,
          347,
          550,
          529,
          472,
          515,
          666,
          769,
          751,
          520,
          532,
          512
         ],
         "y0": " ",
         "yaxis": "y"
        }
       ],
       "layout": {
        "legend": {
         "title": {
          "text": "Set"
         },
         "tracegroupgap": 0
        },
        "margin": {
         "t": 60
        },
        "template": {
         "data": {
          "bar": [
           {
            "error_x": {
             "color": "#2a3f5f"
            },
            "error_y": {
             "color": "#2a3f5f"
            },
            "marker": {
             "line": {
              "color": "#E5ECF6",
              "width": 0.5
             },
             "pattern": {
              "fillmode": "overlay",
              "size": 10,
              "solidity": 0.2
             }
            },
            "type": "bar"
           }
          ],
          "barpolar": [
           {
            "marker": {
             "line": {
              "color": "#E5ECF6",
              "width": 0.5
             },
             "pattern": {
              "fillmode": "overlay",
              "size": 10,
              "solidity": 0.2
             }
            },
            "type": "barpolar"
           }
          ],
          "carpet": [
           {
            "aaxis": {
             "endlinecolor": "#2a3f5f",
             "gridcolor": "white",
             "linecolor": "white",
             "minorgridcolor": "white",
             "startlinecolor": "#2a3f5f"
            },
            "baxis": {
             "endlinecolor": "#2a3f5f",
             "gridcolor": "white",
             "linecolor": "white",
             "minorgridcolor": "white",
             "startlinecolor": "#2a3f5f"
            },
            "type": "carpet"
           }
          ],
          "choropleth": [
           {
            "colorbar": {
             "outlinewidth": 0,
             "ticks": ""
            },
            "type": "choropleth"
           }
          ],
          "contour": [
           {
            "colorbar": {
             "outlinewidth": 0,
             "ticks": ""
            },
            "colorscale": [
             [
              0,
              "#0d0887"
             ],
             [
              0.1111111111111111,
              "#46039f"
             ],
             [
              0.2222222222222222,
              "#7201a8"
             ],
             [
              0.3333333333333333,
              "#9c179e"
             ],
             [
              0.4444444444444444,
              "#bd3786"
             ],
             [
              0.5555555555555556,
              "#d8576b"
             ],
             [
              0.6666666666666666,
              "#ed7953"
             ],
             [
              0.7777777777777778,
              "#fb9f3a"
             ],
             [
              0.8888888888888888,
              "#fdca26"
             ],
             [
              1,
              "#f0f921"
             ]
            ],
            "type": "contour"
           }
          ],
          "contourcarpet": [
           {
            "colorbar": {
             "outlinewidth": 0,
             "ticks": ""
            },
            "type": "contourcarpet"
           }
          ],
          "heatmap": [
           {
            "colorbar": {
             "outlinewidth": 0,
             "ticks": ""
            },
            "colorscale": [
             [
              0,
              "#0d0887"
             ],
             [
              0.1111111111111111,
              "#46039f"
             ],
             [
              0.2222222222222222,
              "#7201a8"
             ],
             [
              0.3333333333333333,
              "#9c179e"
             ],
             [
              0.4444444444444444,
              "#bd3786"
             ],
             [
              0.5555555555555556,
              "#d8576b"
             ],
             [
              0.6666666666666666,
              "#ed7953"
             ],
             [
              0.7777777777777778,
              "#fb9f3a"
             ],
             [
              0.8888888888888888,
              "#fdca26"
             ],
             [
              1,
              "#f0f921"
             ]
            ],
            "type": "heatmap"
           }
          ],
          "heatmapgl": [
           {
            "colorbar": {
             "outlinewidth": 0,
             "ticks": ""
            },
            "colorscale": [
             [
              0,
              "#0d0887"
             ],
             [
              0.1111111111111111,
              "#46039f"
             ],
             [
              0.2222222222222222,
              "#7201a8"
             ],
             [
              0.3333333333333333,
              "#9c179e"
             ],
             [
              0.4444444444444444,
              "#bd3786"
             ],
             [
              0.5555555555555556,
              "#d8576b"
             ],
             [
              0.6666666666666666,
              "#ed7953"
             ],
             [
              0.7777777777777778,
              "#fb9f3a"
             ],
             [
              0.8888888888888888,
              "#fdca26"
             ],
             [
              1,
              "#f0f921"
             ]
            ],
            "type": "heatmapgl"
           }
          ],
          "histogram": [
           {
            "marker": {
             "pattern": {
              "fillmode": "overlay",
              "size": 10,
              "solidity": 0.2
             }
            },
            "type": "histogram"
           }
          ],
          "histogram2d": [
           {
            "colorbar": {
             "outlinewidth": 0,
             "ticks": ""
            },
            "colorscale": [
             [
              0,
              "#0d0887"
             ],
             [
              0.1111111111111111,
              "#46039f"
             ],
             [
              0.2222222222222222,
              "#7201a8"
             ],
             [
              0.3333333333333333,
              "#9c179e"
             ],
             [
              0.4444444444444444,
              "#bd3786"
             ],
             [
              0.5555555555555556,
              "#d8576b"
             ],
             [
              0.6666666666666666,
              "#ed7953"
             ],
             [
              0.7777777777777778,
              "#fb9f3a"
             ],
             [
              0.8888888888888888,
              "#fdca26"
             ],
             [
              1,
              "#f0f921"
             ]
            ],
            "type": "histogram2d"
           }
          ],
          "histogram2dcontour": [
           {
            "colorbar": {
             "outlinewidth": 0,
             "ticks": ""
            },
            "colorscale": [
             [
              0,
              "#0d0887"
             ],
             [
              0.1111111111111111,
              "#46039f"
             ],
             [
              0.2222222222222222,
              "#7201a8"
             ],
             [
              0.3333333333333333,
              "#9c179e"
             ],
             [
              0.4444444444444444,
              "#bd3786"
             ],
             [
              0.5555555555555556,
              "#d8576b"
             ],
             [
              0.6666666666666666,
              "#ed7953"
             ],
             [
              0.7777777777777778,
              "#fb9f3a"
             ],
             [
              0.8888888888888888,
              "#fdca26"
             ],
             [
              1,
              "#f0f921"
             ]
            ],
            "type": "histogram2dcontour"
           }
          ],
          "mesh3d": [
           {
            "colorbar": {
             "outlinewidth": 0,
             "ticks": ""
            },
            "type": "mesh3d"
           }
          ],
          "parcoords": [
           {
            "line": {
             "colorbar": {
              "outlinewidth": 0,
              "ticks": ""
             }
            },
            "type": "parcoords"
           }
          ],
          "pie": [
           {
            "automargin": true,
            "type": "pie"
           }
          ],
          "scatter": [
           {
            "fillpattern": {
             "fillmode": "overlay",
             "size": 10,
             "solidity": 0.2
            },
            "type": "scatter"
           }
          ],
          "scatter3d": [
           {
            "line": {
             "colorbar": {
              "outlinewidth": 0,
              "ticks": ""
             }
            },
            "marker": {
             "colorbar": {
              "outlinewidth": 0,
              "ticks": ""
             }
            },
            "type": "scatter3d"
           }
          ],
          "scattercarpet": [
           {
            "marker": {
             "colorbar": {
              "outlinewidth": 0,
              "ticks": ""
             }
            },
            "type": "scattercarpet"
           }
          ],
          "scattergeo": [
           {
            "marker": {
             "colorbar": {
              "outlinewidth": 0,
              "ticks": ""
             }
            },
            "type": "scattergeo"
           }
          ],
          "scattergl": [
           {
            "marker": {
             "colorbar": {
              "outlinewidth": 0,
              "ticks": ""
             }
            },
            "type": "scattergl"
           }
          ],
          "scattermapbox": [
           {
            "marker": {
             "colorbar": {
              "outlinewidth": 0,
              "ticks": ""
             }
            },
            "type": "scattermapbox"
           }
          ],
          "scatterpolar": [
           {
            "marker": {
             "colorbar": {
              "outlinewidth": 0,
              "ticks": ""
             }
            },
            "type": "scatterpolar"
           }
          ],
          "scatterpolargl": [
           {
            "marker": {
             "colorbar": {
              "outlinewidth": 0,
              "ticks": ""
             }
            },
            "type": "scatterpolargl"
           }
          ],
          "scatterternary": [
           {
            "marker": {
             "colorbar": {
              "outlinewidth": 0,
              "ticks": ""
             }
            },
            "type": "scatterternary"
           }
          ],
          "surface": [
           {
            "colorbar": {
             "outlinewidth": 0,
             "ticks": ""
            },
            "colorscale": [
             [
              0,
              "#0d0887"
             ],
             [
              0.1111111111111111,
              "#46039f"
             ],
             [
              0.2222222222222222,
              "#7201a8"
             ],
             [
              0.3333333333333333,
              "#9c179e"
             ],
             [
              0.4444444444444444,
              "#bd3786"
             ],
             [
              0.5555555555555556,
              "#d8576b"
             ],
             [
              0.6666666666666666,
              "#ed7953"
             ],
             [
              0.7777777777777778,
              "#fb9f3a"
             ],
             [
              0.8888888888888888,
              "#fdca26"
             ],
             [
              1,
              "#f0f921"
             ]
            ],
            "type": "surface"
           }
          ],
          "table": [
           {
            "cells": {
             "fill": {
              "color": "#EBF0F8"
             },
             "line": {
              "color": "white"
             }
            },
            "header": {
             "fill": {
              "color": "#C8D4E3"
             },
             "line": {
              "color": "white"
             }
            },
            "type": "table"
           }
          ]
         },
         "layout": {
          "annotationdefaults": {
           "arrowcolor": "#2a3f5f",
           "arrowhead": 0,
           "arrowwidth": 1
          },
          "autotypenumbers": "strict",
          "coloraxis": {
           "colorbar": {
            "outlinewidth": 0,
            "ticks": ""
           }
          },
          "colorscale": {
           "diverging": [
            [
             0,
             "#8e0152"
            ],
            [
             0.1,
             "#c51b7d"
            ],
            [
             0.2,
             "#de77ae"
            ],
            [
             0.3,
             "#f1b6da"
            ],
            [
             0.4,
             "#fde0ef"
            ],
            [
             0.5,
             "#f7f7f7"
            ],
            [
             0.6,
             "#e6f5d0"
            ],
            [
             0.7,
             "#b8e186"
            ],
            [
             0.8,
             "#7fbc41"
            ],
            [
             0.9,
             "#4d9221"
            ],
            [
             1,
             "#276419"
            ]
           ],
           "sequential": [
            [
             0,
             "#0d0887"
            ],
            [
             0.1111111111111111,
             "#46039f"
            ],
            [
             0.2222222222222222,
             "#7201a8"
            ],
            [
             0.3333333333333333,
             "#9c179e"
            ],
            [
             0.4444444444444444,
             "#bd3786"
            ],
            [
             0.5555555555555556,
             "#d8576b"
            ],
            [
             0.6666666666666666,
             "#ed7953"
            ],
            [
             0.7777777777777778,
             "#fb9f3a"
            ],
            [
             0.8888888888888888,
             "#fdca26"
            ],
            [
             1,
             "#f0f921"
            ]
           ],
           "sequentialminus": [
            [
             0,
             "#0d0887"
            ],
            [
             0.1111111111111111,
             "#46039f"
            ],
            [
             0.2222222222222222,
             "#7201a8"
            ],
            [
             0.3333333333333333,
             "#9c179e"
            ],
            [
             0.4444444444444444,
             "#bd3786"
            ],
            [
             0.5555555555555556,
             "#d8576b"
            ],
            [
             0.6666666666666666,
             "#ed7953"
            ],
            [
             0.7777777777777778,
             "#fb9f3a"
            ],
            [
             0.8888888888888888,
             "#fdca26"
            ],
            [
             1,
             "#f0f921"
            ]
           ]
          },
          "colorway": [
           "#636efa",
           "#EF553B",
           "#00cc96",
           "#ab63fa",
           "#FFA15A",
           "#19d3f3",
           "#FF6692",
           "#B6E880",
           "#FF97FF",
           "#FECB52"
          ],
          "font": {
           "color": "#2a3f5f"
          },
          "geo": {
           "bgcolor": "white",
           "lakecolor": "white",
           "landcolor": "#E5ECF6",
           "showlakes": true,
           "showland": true,
           "subunitcolor": "white"
          },
          "hoverlabel": {
           "align": "left"
          },
          "hovermode": "closest",
          "mapbox": {
           "style": "light"
          },
          "paper_bgcolor": "white",
          "plot_bgcolor": "#E5ECF6",
          "polar": {
           "angularaxis": {
            "gridcolor": "white",
            "linecolor": "white",
            "ticks": ""
           },
           "bgcolor": "#E5ECF6",
           "radialaxis": {
            "gridcolor": "white",
            "linecolor": "white",
            "ticks": ""
           }
          },
          "scene": {
           "xaxis": {
            "backgroundcolor": "#E5ECF6",
            "gridcolor": "white",
            "gridwidth": 2,
            "linecolor": "white",
            "showbackground": true,
            "ticks": "",
            "zerolinecolor": "white"
           },
           "yaxis": {
            "backgroundcolor": "#E5ECF6",
            "gridcolor": "white",
            "gridwidth": 2,
            "linecolor": "white",
            "showbackground": true,
            "ticks": "",
            "zerolinecolor": "white"
           },
           "zaxis": {
            "backgroundcolor": "#E5ECF6",
            "gridcolor": "white",
            "gridwidth": 2,
            "linecolor": "white",
            "showbackground": true,
            "ticks": "",
            "zerolinecolor": "white"
           }
          },
          "shapedefaults": {
           "line": {
            "color": "#2a3f5f"
           }
          },
          "ternary": {
           "aaxis": {
            "gridcolor": "white",
            "linecolor": "white",
            "ticks": ""
           },
           "baxis": {
            "gridcolor": "white",
            "linecolor": "white",
            "ticks": ""
           },
           "bgcolor": "#E5ECF6",
           "caxis": {
            "gridcolor": "white",
            "linecolor": "white",
            "ticks": ""
           }
          },
          "title": {
           "x": 0.05
          },
          "xaxis": {
           "automargin": true,
           "gridcolor": "white",
           "linecolor": "white",
           "ticks": "",
           "title": {
            "standoff": 15
           },
           "zerolinecolor": "white",
           "zerolinewidth": 2
          },
          "yaxis": {
           "automargin": true,
           "gridcolor": "white",
           "linecolor": "white",
           "ticks": "",
           "title": {
            "standoff": 15
           },
           "zerolinecolor": "white",
           "zerolinewidth": 2
          }
         }
        },
        "violinmode": "overlay",
        "xaxis": {
         "anchor": "y",
         "categoryarray": [
          "Train",
          "Validation",
          "Test"
         ],
         "categoryorder": "array",
         "domain": [
          0,
          1
         ],
         "title": {
          "text": "Set"
         }
        },
        "yaxis": {
         "anchor": "x",
         "domain": [
          0,
          1
         ],
         "title": {
          "text": "Number of Tokens"
         }
        }
       }
      }
     },
     "metadata": {},
     "output_type": "display_data"
    }
   ],
   "source": [
    "df = px.data.tips()\n",
    "fig = px.violin(dataset_df, y='Number of Tokens', x='Set', color='Set', box=True, # draw box plot inside the violin\n",
    "                points=False # can be 'outliers', or False\n",
    "               )\n",
    "fig.show()"
   ]
  },
  {
   "cell_type": "code",
   "execution_count": 44,
   "metadata": {},
   "outputs": [
    {
     "data": {
      "application/vnd.plotly.v1+json": {
       "config": {
        "plotlyServerURL": "https://plot.ly"
       },
       "data": [
        {
         "alignmentgroup": "True",
         "box": {
          "visible": true
         },
         "hovertemplate": "Number of Tokens=%{y}<extra></extra>",
         "legendgroup": "",
         "marker": {
          "color": "#636efa"
         },
         "name": "",
         "offsetgroup": "",
         "orientation": "v",
         "points": false,
         "scalegroup": "True",
         "showlegend": false,
         "type": "violin",
         "x0": " ",
         "xaxis": "x",
         "y": [
          1014,
          608,
          169,
          451,
          615,
          2286,
          458,
          1110,
          259,
          1106,
          1491,
          747,
          407,
          350,
          641,
          766,
          542,
          904,
          465,
          1305,
          788,
          334,
          587,
          997,
          1456,
          382,
          121,
          496,
          1199,
          599,
          1299,
          779,
          818,
          490,
          560,
          517,
          490,
          382,
          661,
          707,
          1501,
          606,
          623,
          632,
          1326,
          327,
          1205,
          257,
          709,
          575,
          1177,
          495,
          286,
          570,
          952,
          632,
          609,
          493,
          697,
          416,
          379,
          463,
          1166,
          1127,
          318,
          1296,
          829,
          629,
          806,
          314,
          354,
          371,
          1219,
          640,
          418,
          652,
          444,
          599,
          1297,
          1146,
          359,
          611,
          1519,
          690,
          624,
          1118,
          1405,
          1302,
          959,
          246,
          503,
          978,
          314,
          428,
          645,
          666,
          515,
          827,
          616,
          400,
          592,
          735,
          647,
          518,
          706,
          538,
          625,
          556,
          545,
          390,
          279,
          462,
          578,
          565,
          358,
          363,
          468,
          475,
          475,
          641,
          704,
          630,
          503,
          570,
          510,
          659,
          378,
          721,
          410,
          461,
          788,
          549,
          437,
          642,
          552,
          560,
          656,
          528,
          626,
          542,
          738,
          805,
          577,
          561,
          642,
          688,
          628,
          662,
          524,
          376,
          617,
          665,
          648,
          615,
          557,
          615,
          681,
          817,
          650,
          167,
          679,
          709,
          705,
          577,
          584,
          658,
          511,
          361,
          441,
          379,
          519,
          342,
          551,
          618,
          737,
          670,
          603,
          383,
          583,
          261,
          452,
          491,
          774,
          465,
          453,
          380
         ],
         "y0": " ",
         "yaxis": "y"
        }
       ],
       "layout": {
        "legend": {
         "tracegroupgap": 0
        },
        "margin": {
         "t": 60
        },
        "template": {
         "data": {
          "bar": [
           {
            "error_x": {
             "color": "#2a3f5f"
            },
            "error_y": {
             "color": "#2a3f5f"
            },
            "marker": {
             "line": {
              "color": "#E5ECF6",
              "width": 0.5
             },
             "pattern": {
              "fillmode": "overlay",
              "size": 10,
              "solidity": 0.2
             }
            },
            "type": "bar"
           }
          ],
          "barpolar": [
           {
            "marker": {
             "line": {
              "color": "#E5ECF6",
              "width": 0.5
             },
             "pattern": {
              "fillmode": "overlay",
              "size": 10,
              "solidity": 0.2
             }
            },
            "type": "barpolar"
           }
          ],
          "carpet": [
           {
            "aaxis": {
             "endlinecolor": "#2a3f5f",
             "gridcolor": "white",
             "linecolor": "white",
             "minorgridcolor": "white",
             "startlinecolor": "#2a3f5f"
            },
            "baxis": {
             "endlinecolor": "#2a3f5f",
             "gridcolor": "white",
             "linecolor": "white",
             "minorgridcolor": "white",
             "startlinecolor": "#2a3f5f"
            },
            "type": "carpet"
           }
          ],
          "choropleth": [
           {
            "colorbar": {
             "outlinewidth": 0,
             "ticks": ""
            },
            "type": "choropleth"
           }
          ],
          "contour": [
           {
            "colorbar": {
             "outlinewidth": 0,
             "ticks": ""
            },
            "colorscale": [
             [
              0,
              "#0d0887"
             ],
             [
              0.1111111111111111,
              "#46039f"
             ],
             [
              0.2222222222222222,
              "#7201a8"
             ],
             [
              0.3333333333333333,
              "#9c179e"
             ],
             [
              0.4444444444444444,
              "#bd3786"
             ],
             [
              0.5555555555555556,
              "#d8576b"
             ],
             [
              0.6666666666666666,
              "#ed7953"
             ],
             [
              0.7777777777777778,
              "#fb9f3a"
             ],
             [
              0.8888888888888888,
              "#fdca26"
             ],
             [
              1,
              "#f0f921"
             ]
            ],
            "type": "contour"
           }
          ],
          "contourcarpet": [
           {
            "colorbar": {
             "outlinewidth": 0,
             "ticks": ""
            },
            "type": "contourcarpet"
           }
          ],
          "heatmap": [
           {
            "colorbar": {
             "outlinewidth": 0,
             "ticks": ""
            },
            "colorscale": [
             [
              0,
              "#0d0887"
             ],
             [
              0.1111111111111111,
              "#46039f"
             ],
             [
              0.2222222222222222,
              "#7201a8"
             ],
             [
              0.3333333333333333,
              "#9c179e"
             ],
             [
              0.4444444444444444,
              "#bd3786"
             ],
             [
              0.5555555555555556,
              "#d8576b"
             ],
             [
              0.6666666666666666,
              "#ed7953"
             ],
             [
              0.7777777777777778,
              "#fb9f3a"
             ],
             [
              0.8888888888888888,
              "#fdca26"
             ],
             [
              1,
              "#f0f921"
             ]
            ],
            "type": "heatmap"
           }
          ],
          "heatmapgl": [
           {
            "colorbar": {
             "outlinewidth": 0,
             "ticks": ""
            },
            "colorscale": [
             [
              0,
              "#0d0887"
             ],
             [
              0.1111111111111111,
              "#46039f"
             ],
             [
              0.2222222222222222,
              "#7201a8"
             ],
             [
              0.3333333333333333,
              "#9c179e"
             ],
             [
              0.4444444444444444,
              "#bd3786"
             ],
             [
              0.5555555555555556,
              "#d8576b"
             ],
             [
              0.6666666666666666,
              "#ed7953"
             ],
             [
              0.7777777777777778,
              "#fb9f3a"
             ],
             [
              0.8888888888888888,
              "#fdca26"
             ],
             [
              1,
              "#f0f921"
             ]
            ],
            "type": "heatmapgl"
           }
          ],
          "histogram": [
           {
            "marker": {
             "pattern": {
              "fillmode": "overlay",
              "size": 10,
              "solidity": 0.2
             }
            },
            "type": "histogram"
           }
          ],
          "histogram2d": [
           {
            "colorbar": {
             "outlinewidth": 0,
             "ticks": ""
            },
            "colorscale": [
             [
              0,
              "#0d0887"
             ],
             [
              0.1111111111111111,
              "#46039f"
             ],
             [
              0.2222222222222222,
              "#7201a8"
             ],
             [
              0.3333333333333333,
              "#9c179e"
             ],
             [
              0.4444444444444444,
              "#bd3786"
             ],
             [
              0.5555555555555556,
              "#d8576b"
             ],
             [
              0.6666666666666666,
              "#ed7953"
             ],
             [
              0.7777777777777778,
              "#fb9f3a"
             ],
             [
              0.8888888888888888,
              "#fdca26"
             ],
             [
              1,
              "#f0f921"
             ]
            ],
            "type": "histogram2d"
           }
          ],
          "histogram2dcontour": [
           {
            "colorbar": {
             "outlinewidth": 0,
             "ticks": ""
            },
            "colorscale": [
             [
              0,
              "#0d0887"
             ],
             [
              0.1111111111111111,
              "#46039f"
             ],
             [
              0.2222222222222222,
              "#7201a8"
             ],
             [
              0.3333333333333333,
              "#9c179e"
             ],
             [
              0.4444444444444444,
              "#bd3786"
             ],
             [
              0.5555555555555556,
              "#d8576b"
             ],
             [
              0.6666666666666666,
              "#ed7953"
             ],
             [
              0.7777777777777778,
              "#fb9f3a"
             ],
             [
              0.8888888888888888,
              "#fdca26"
             ],
             [
              1,
              "#f0f921"
             ]
            ],
            "type": "histogram2dcontour"
           }
          ],
          "mesh3d": [
           {
            "colorbar": {
             "outlinewidth": 0,
             "ticks": ""
            },
            "type": "mesh3d"
           }
          ],
          "parcoords": [
           {
            "line": {
             "colorbar": {
              "outlinewidth": 0,
              "ticks": ""
             }
            },
            "type": "parcoords"
           }
          ],
          "pie": [
           {
            "automargin": true,
            "type": "pie"
           }
          ],
          "scatter": [
           {
            "fillpattern": {
             "fillmode": "overlay",
             "size": 10,
             "solidity": 0.2
            },
            "type": "scatter"
           }
          ],
          "scatter3d": [
           {
            "line": {
             "colorbar": {
              "outlinewidth": 0,
              "ticks": ""
             }
            },
            "marker": {
             "colorbar": {
              "outlinewidth": 0,
              "ticks": ""
             }
            },
            "type": "scatter3d"
           }
          ],
          "scattercarpet": [
           {
            "marker": {
             "colorbar": {
              "outlinewidth": 0,
              "ticks": ""
             }
            },
            "type": "scattercarpet"
           }
          ],
          "scattergeo": [
           {
            "marker": {
             "colorbar": {
              "outlinewidth": 0,
              "ticks": ""
             }
            },
            "type": "scattergeo"
           }
          ],
          "scattergl": [
           {
            "marker": {
             "colorbar": {
              "outlinewidth": 0,
              "ticks": ""
             }
            },
            "type": "scattergl"
           }
          ],
          "scattermapbox": [
           {
            "marker": {
             "colorbar": {
              "outlinewidth": 0,
              "ticks": ""
             }
            },
            "type": "scattermapbox"
           }
          ],
          "scatterpolar": [
           {
            "marker": {
             "colorbar": {
              "outlinewidth": 0,
              "ticks": ""
             }
            },
            "type": "scatterpolar"
           }
          ],
          "scatterpolargl": [
           {
            "marker": {
             "colorbar": {
              "outlinewidth": 0,
              "ticks": ""
             }
            },
            "type": "scatterpolargl"
           }
          ],
          "scatterternary": [
           {
            "marker": {
             "colorbar": {
              "outlinewidth": 0,
              "ticks": ""
             }
            },
            "type": "scatterternary"
           }
          ],
          "surface": [
           {
            "colorbar": {
             "outlinewidth": 0,
             "ticks": ""
            },
            "colorscale": [
             [
              0,
              "#0d0887"
             ],
             [
              0.1111111111111111,
              "#46039f"
             ],
             [
              0.2222222222222222,
              "#7201a8"
             ],
             [
              0.3333333333333333,
              "#9c179e"
             ],
             [
              0.4444444444444444,
              "#bd3786"
             ],
             [
              0.5555555555555556,
              "#d8576b"
             ],
             [
              0.6666666666666666,
              "#ed7953"
             ],
             [
              0.7777777777777778,
              "#fb9f3a"
             ],
             [
              0.8888888888888888,
              "#fdca26"
             ],
             [
              1,
              "#f0f921"
             ]
            ],
            "type": "surface"
           }
          ],
          "table": [
           {
            "cells": {
             "fill": {
              "color": "#EBF0F8"
             },
             "line": {
              "color": "white"
             }
            },
            "header": {
             "fill": {
              "color": "#C8D4E3"
             },
             "line": {
              "color": "white"
             }
            },
            "type": "table"
           }
          ]
         },
         "layout": {
          "annotationdefaults": {
           "arrowcolor": "#2a3f5f",
           "arrowhead": 0,
           "arrowwidth": 1
          },
          "autotypenumbers": "strict",
          "coloraxis": {
           "colorbar": {
            "outlinewidth": 0,
            "ticks": ""
           }
          },
          "colorscale": {
           "diverging": [
            [
             0,
             "#8e0152"
            ],
            [
             0.1,
             "#c51b7d"
            ],
            [
             0.2,
             "#de77ae"
            ],
            [
             0.3,
             "#f1b6da"
            ],
            [
             0.4,
             "#fde0ef"
            ],
            [
             0.5,
             "#f7f7f7"
            ],
            [
             0.6,
             "#e6f5d0"
            ],
            [
             0.7,
             "#b8e186"
            ],
            [
             0.8,
             "#7fbc41"
            ],
            [
             0.9,
             "#4d9221"
            ],
            [
             1,
             "#276419"
            ]
           ],
           "sequential": [
            [
             0,
             "#0d0887"
            ],
            [
             0.1111111111111111,
             "#46039f"
            ],
            [
             0.2222222222222222,
             "#7201a8"
            ],
            [
             0.3333333333333333,
             "#9c179e"
            ],
            [
             0.4444444444444444,
             "#bd3786"
            ],
            [
             0.5555555555555556,
             "#d8576b"
            ],
            [
             0.6666666666666666,
             "#ed7953"
            ],
            [
             0.7777777777777778,
             "#fb9f3a"
            ],
            [
             0.8888888888888888,
             "#fdca26"
            ],
            [
             1,
             "#f0f921"
            ]
           ],
           "sequentialminus": [
            [
             0,
             "#0d0887"
            ],
            [
             0.1111111111111111,
             "#46039f"
            ],
            [
             0.2222222222222222,
             "#7201a8"
            ],
            [
             0.3333333333333333,
             "#9c179e"
            ],
            [
             0.4444444444444444,
             "#bd3786"
            ],
            [
             0.5555555555555556,
             "#d8576b"
            ],
            [
             0.6666666666666666,
             "#ed7953"
            ],
            [
             0.7777777777777778,
             "#fb9f3a"
            ],
            [
             0.8888888888888888,
             "#fdca26"
            ],
            [
             1,
             "#f0f921"
            ]
           ]
          },
          "colorway": [
           "#636efa",
           "#EF553B",
           "#00cc96",
           "#ab63fa",
           "#FFA15A",
           "#19d3f3",
           "#FF6692",
           "#B6E880",
           "#FF97FF",
           "#FECB52"
          ],
          "font": {
           "color": "#2a3f5f"
          },
          "geo": {
           "bgcolor": "white",
           "lakecolor": "white",
           "landcolor": "#E5ECF6",
           "showlakes": true,
           "showland": true,
           "subunitcolor": "white"
          },
          "hoverlabel": {
           "align": "left"
          },
          "hovermode": "closest",
          "mapbox": {
           "style": "light"
          },
          "paper_bgcolor": "white",
          "plot_bgcolor": "#E5ECF6",
          "polar": {
           "angularaxis": {
            "gridcolor": "white",
            "linecolor": "white",
            "ticks": ""
           },
           "bgcolor": "#E5ECF6",
           "radialaxis": {
            "gridcolor": "white",
            "linecolor": "white",
            "ticks": ""
           }
          },
          "scene": {
           "xaxis": {
            "backgroundcolor": "#E5ECF6",
            "gridcolor": "white",
            "gridwidth": 2,
            "linecolor": "white",
            "showbackground": true,
            "ticks": "",
            "zerolinecolor": "white"
           },
           "yaxis": {
            "backgroundcolor": "#E5ECF6",
            "gridcolor": "white",
            "gridwidth": 2,
            "linecolor": "white",
            "showbackground": true,
            "ticks": "",
            "zerolinecolor": "white"
           },
           "zaxis": {
            "backgroundcolor": "#E5ECF6",
            "gridcolor": "white",
            "gridwidth": 2,
            "linecolor": "white",
            "showbackground": true,
            "ticks": "",
            "zerolinecolor": "white"
           }
          },
          "shapedefaults": {
           "line": {
            "color": "#2a3f5f"
           }
          },
          "ternary": {
           "aaxis": {
            "gridcolor": "white",
            "linecolor": "white",
            "ticks": ""
           },
           "baxis": {
            "gridcolor": "white",
            "linecolor": "white",
            "ticks": ""
           },
           "bgcolor": "#E5ECF6",
           "caxis": {
            "gridcolor": "white",
            "linecolor": "white",
            "ticks": ""
           }
          },
          "title": {
           "x": 0.05
          },
          "xaxis": {
           "automargin": true,
           "gridcolor": "white",
           "linecolor": "white",
           "ticks": "",
           "title": {
            "standoff": 15
           },
           "zerolinecolor": "white",
           "zerolinewidth": 2
          },
          "yaxis": {
           "automargin": true,
           "gridcolor": "white",
           "linecolor": "white",
           "ticks": "",
           "title": {
            "standoff": 15
           },
           "zerolinecolor": "white",
           "zerolinewidth": 2
          }
         }
        },
        "violinmode": "group",
        "xaxis": {
         "anchor": "y",
         "domain": [
          0,
          1
         ]
        },
        "yaxis": {
         "anchor": "x",
         "domain": [
          0,
          1
         ],
         "title": {
          "text": "Number of Tokens"
         }
        }
       }
      }
     },
     "metadata": {},
     "output_type": "display_data"
    }
   ],
   "source": [
    "df = px.data.tips()\n",
    "fig = px.violin(val_tokens_df, y='Number of Tokens', box=True, # draw box plot inside the violin\n",
    "                points=False, # can be 'outliers', or False\n",
    "               )\n",
    "fig.show()"
   ]
  },
  {
   "cell_type": "code",
   "execution_count": 45,
   "metadata": {},
   "outputs": [
    {
     "data": {
      "application/vnd.plotly.v1+json": {
       "config": {
        "plotlyServerURL": "https://plot.ly"
       },
       "data": [
        {
         "alignmentgroup": "True",
         "box": {
          "visible": true
         },
         "hovertemplate": "Number of Tokens=%{y}<extra></extra>",
         "legendgroup": "",
         "marker": {
          "color": "#636efa"
         },
         "name": "",
         "offsetgroup": "",
         "orientation": "v",
         "points": false,
         "scalegroup": "True",
         "showlegend": false,
         "type": "violin",
         "x0": " ",
         "xaxis": "x",
         "y": [
          295,
          1422,
          688,
          459,
          1092,
          437,
          2366,
          449,
          804,
          789,
          486,
          416,
          972,
          776,
          737,
          1168,
          1019,
          669,
          989,
          1138,
          1282,
          570,
          527,
          196,
          650,
          228,
          675,
          191,
          1567,
          762,
          1429,
          568,
          424,
          658,
          531,
          1152,
          1269,
          1134,
          1281,
          343,
          698,
          877,
          598,
          631,
          809,
          410,
          1091,
          653,
          612,
          814,
          707,
          635,
          579,
          846,
          942,
          380,
          507,
          565,
          296,
          591,
          1061,
          2061,
          730,
          339,
          407,
          764,
          1807,
          950,
          779,
          931,
          322,
          815,
          525,
          663,
          371,
          1499,
          576,
          584,
          2120,
          917,
          1135,
          1069,
          664,
          1322,
          350,
          2728,
          333,
          670,
          419,
          1166,
          505,
          1348,
          1004,
          314,
          824,
          507,
          598,
          593,
          474,
          824,
          829,
          719,
          490,
          520,
          712,
          670,
          584,
          675,
          687,
          742,
          786,
          448,
          497,
          683,
          609,
          770,
          680,
          652,
          695,
          851,
          587,
          606,
          646,
          359,
          624,
          550,
          584,
          463,
          752,
          490,
          523,
          629,
          433,
          779,
          330,
          697,
          577,
          651,
          412,
          586,
          667,
          809,
          563,
          399,
          718,
          689,
          586,
          655,
          817,
          306,
          179,
          536,
          725,
          608,
          431,
          710,
          551,
          442,
          553,
          683,
          703,
          593,
          533,
          590,
          751,
          410,
          512,
          610,
          435,
          334,
          403,
          395,
          623,
          584,
          593,
          461,
          496,
          681,
          376,
          347,
          550,
          529,
          472,
          515,
          666,
          769,
          751,
          520,
          532,
          512
         ],
         "y0": " ",
         "yaxis": "y"
        }
       ],
       "layout": {
        "legend": {
         "tracegroupgap": 0
        },
        "margin": {
         "t": 60
        },
        "template": {
         "data": {
          "bar": [
           {
            "error_x": {
             "color": "#2a3f5f"
            },
            "error_y": {
             "color": "#2a3f5f"
            },
            "marker": {
             "line": {
              "color": "#E5ECF6",
              "width": 0.5
             },
             "pattern": {
              "fillmode": "overlay",
              "size": 10,
              "solidity": 0.2
             }
            },
            "type": "bar"
           }
          ],
          "barpolar": [
           {
            "marker": {
             "line": {
              "color": "#E5ECF6",
              "width": 0.5
             },
             "pattern": {
              "fillmode": "overlay",
              "size": 10,
              "solidity": 0.2
             }
            },
            "type": "barpolar"
           }
          ],
          "carpet": [
           {
            "aaxis": {
             "endlinecolor": "#2a3f5f",
             "gridcolor": "white",
             "linecolor": "white",
             "minorgridcolor": "white",
             "startlinecolor": "#2a3f5f"
            },
            "baxis": {
             "endlinecolor": "#2a3f5f",
             "gridcolor": "white",
             "linecolor": "white",
             "minorgridcolor": "white",
             "startlinecolor": "#2a3f5f"
            },
            "type": "carpet"
           }
          ],
          "choropleth": [
           {
            "colorbar": {
             "outlinewidth": 0,
             "ticks": ""
            },
            "type": "choropleth"
           }
          ],
          "contour": [
           {
            "colorbar": {
             "outlinewidth": 0,
             "ticks": ""
            },
            "colorscale": [
             [
              0,
              "#0d0887"
             ],
             [
              0.1111111111111111,
              "#46039f"
             ],
             [
              0.2222222222222222,
              "#7201a8"
             ],
             [
              0.3333333333333333,
              "#9c179e"
             ],
             [
              0.4444444444444444,
              "#bd3786"
             ],
             [
              0.5555555555555556,
              "#d8576b"
             ],
             [
              0.6666666666666666,
              "#ed7953"
             ],
             [
              0.7777777777777778,
              "#fb9f3a"
             ],
             [
              0.8888888888888888,
              "#fdca26"
             ],
             [
              1,
              "#f0f921"
             ]
            ],
            "type": "contour"
           }
          ],
          "contourcarpet": [
           {
            "colorbar": {
             "outlinewidth": 0,
             "ticks": ""
            },
            "type": "contourcarpet"
           }
          ],
          "heatmap": [
           {
            "colorbar": {
             "outlinewidth": 0,
             "ticks": ""
            },
            "colorscale": [
             [
              0,
              "#0d0887"
             ],
             [
              0.1111111111111111,
              "#46039f"
             ],
             [
              0.2222222222222222,
              "#7201a8"
             ],
             [
              0.3333333333333333,
              "#9c179e"
             ],
             [
              0.4444444444444444,
              "#bd3786"
             ],
             [
              0.5555555555555556,
              "#d8576b"
             ],
             [
              0.6666666666666666,
              "#ed7953"
             ],
             [
              0.7777777777777778,
              "#fb9f3a"
             ],
             [
              0.8888888888888888,
              "#fdca26"
             ],
             [
              1,
              "#f0f921"
             ]
            ],
            "type": "heatmap"
           }
          ],
          "heatmapgl": [
           {
            "colorbar": {
             "outlinewidth": 0,
             "ticks": ""
            },
            "colorscale": [
             [
              0,
              "#0d0887"
             ],
             [
              0.1111111111111111,
              "#46039f"
             ],
             [
              0.2222222222222222,
              "#7201a8"
             ],
             [
              0.3333333333333333,
              "#9c179e"
             ],
             [
              0.4444444444444444,
              "#bd3786"
             ],
             [
              0.5555555555555556,
              "#d8576b"
             ],
             [
              0.6666666666666666,
              "#ed7953"
             ],
             [
              0.7777777777777778,
              "#fb9f3a"
             ],
             [
              0.8888888888888888,
              "#fdca26"
             ],
             [
              1,
              "#f0f921"
             ]
            ],
            "type": "heatmapgl"
           }
          ],
          "histogram": [
           {
            "marker": {
             "pattern": {
              "fillmode": "overlay",
              "size": 10,
              "solidity": 0.2
             }
            },
            "type": "histogram"
           }
          ],
          "histogram2d": [
           {
            "colorbar": {
             "outlinewidth": 0,
             "ticks": ""
            },
            "colorscale": [
             [
              0,
              "#0d0887"
             ],
             [
              0.1111111111111111,
              "#46039f"
             ],
             [
              0.2222222222222222,
              "#7201a8"
             ],
             [
              0.3333333333333333,
              "#9c179e"
             ],
             [
              0.4444444444444444,
              "#bd3786"
             ],
             [
              0.5555555555555556,
              "#d8576b"
             ],
             [
              0.6666666666666666,
              "#ed7953"
             ],
             [
              0.7777777777777778,
              "#fb9f3a"
             ],
             [
              0.8888888888888888,
              "#fdca26"
             ],
             [
              1,
              "#f0f921"
             ]
            ],
            "type": "histogram2d"
           }
          ],
          "histogram2dcontour": [
           {
            "colorbar": {
             "outlinewidth": 0,
             "ticks": ""
            },
            "colorscale": [
             [
              0,
              "#0d0887"
             ],
             [
              0.1111111111111111,
              "#46039f"
             ],
             [
              0.2222222222222222,
              "#7201a8"
             ],
             [
              0.3333333333333333,
              "#9c179e"
             ],
             [
              0.4444444444444444,
              "#bd3786"
             ],
             [
              0.5555555555555556,
              "#d8576b"
             ],
             [
              0.6666666666666666,
              "#ed7953"
             ],
             [
              0.7777777777777778,
              "#fb9f3a"
             ],
             [
              0.8888888888888888,
              "#fdca26"
             ],
             [
              1,
              "#f0f921"
             ]
            ],
            "type": "histogram2dcontour"
           }
          ],
          "mesh3d": [
           {
            "colorbar": {
             "outlinewidth": 0,
             "ticks": ""
            },
            "type": "mesh3d"
           }
          ],
          "parcoords": [
           {
            "line": {
             "colorbar": {
              "outlinewidth": 0,
              "ticks": ""
             }
            },
            "type": "parcoords"
           }
          ],
          "pie": [
           {
            "automargin": true,
            "type": "pie"
           }
          ],
          "scatter": [
           {
            "fillpattern": {
             "fillmode": "overlay",
             "size": 10,
             "solidity": 0.2
            },
            "type": "scatter"
           }
          ],
          "scatter3d": [
           {
            "line": {
             "colorbar": {
              "outlinewidth": 0,
              "ticks": ""
             }
            },
            "marker": {
             "colorbar": {
              "outlinewidth": 0,
              "ticks": ""
             }
            },
            "type": "scatter3d"
           }
          ],
          "scattercarpet": [
           {
            "marker": {
             "colorbar": {
              "outlinewidth": 0,
              "ticks": ""
             }
            },
            "type": "scattercarpet"
           }
          ],
          "scattergeo": [
           {
            "marker": {
             "colorbar": {
              "outlinewidth": 0,
              "ticks": ""
             }
            },
            "type": "scattergeo"
           }
          ],
          "scattergl": [
           {
            "marker": {
             "colorbar": {
              "outlinewidth": 0,
              "ticks": ""
             }
            },
            "type": "scattergl"
           }
          ],
          "scattermapbox": [
           {
            "marker": {
             "colorbar": {
              "outlinewidth": 0,
              "ticks": ""
             }
            },
            "type": "scattermapbox"
           }
          ],
          "scatterpolar": [
           {
            "marker": {
             "colorbar": {
              "outlinewidth": 0,
              "ticks": ""
             }
            },
            "type": "scatterpolar"
           }
          ],
          "scatterpolargl": [
           {
            "marker": {
             "colorbar": {
              "outlinewidth": 0,
              "ticks": ""
             }
            },
            "type": "scatterpolargl"
           }
          ],
          "scatterternary": [
           {
            "marker": {
             "colorbar": {
              "outlinewidth": 0,
              "ticks": ""
             }
            },
            "type": "scatterternary"
           }
          ],
          "surface": [
           {
            "colorbar": {
             "outlinewidth": 0,
             "ticks": ""
            },
            "colorscale": [
             [
              0,
              "#0d0887"
             ],
             [
              0.1111111111111111,
              "#46039f"
             ],
             [
              0.2222222222222222,
              "#7201a8"
             ],
             [
              0.3333333333333333,
              "#9c179e"
             ],
             [
              0.4444444444444444,
              "#bd3786"
             ],
             [
              0.5555555555555556,
              "#d8576b"
             ],
             [
              0.6666666666666666,
              "#ed7953"
             ],
             [
              0.7777777777777778,
              "#fb9f3a"
             ],
             [
              0.8888888888888888,
              "#fdca26"
             ],
             [
              1,
              "#f0f921"
             ]
            ],
            "type": "surface"
           }
          ],
          "table": [
           {
            "cells": {
             "fill": {
              "color": "#EBF0F8"
             },
             "line": {
              "color": "white"
             }
            },
            "header": {
             "fill": {
              "color": "#C8D4E3"
             },
             "line": {
              "color": "white"
             }
            },
            "type": "table"
           }
          ]
         },
         "layout": {
          "annotationdefaults": {
           "arrowcolor": "#2a3f5f",
           "arrowhead": 0,
           "arrowwidth": 1
          },
          "autotypenumbers": "strict",
          "coloraxis": {
           "colorbar": {
            "outlinewidth": 0,
            "ticks": ""
           }
          },
          "colorscale": {
           "diverging": [
            [
             0,
             "#8e0152"
            ],
            [
             0.1,
             "#c51b7d"
            ],
            [
             0.2,
             "#de77ae"
            ],
            [
             0.3,
             "#f1b6da"
            ],
            [
             0.4,
             "#fde0ef"
            ],
            [
             0.5,
             "#f7f7f7"
            ],
            [
             0.6,
             "#e6f5d0"
            ],
            [
             0.7,
             "#b8e186"
            ],
            [
             0.8,
             "#7fbc41"
            ],
            [
             0.9,
             "#4d9221"
            ],
            [
             1,
             "#276419"
            ]
           ],
           "sequential": [
            [
             0,
             "#0d0887"
            ],
            [
             0.1111111111111111,
             "#46039f"
            ],
            [
             0.2222222222222222,
             "#7201a8"
            ],
            [
             0.3333333333333333,
             "#9c179e"
            ],
            [
             0.4444444444444444,
             "#bd3786"
            ],
            [
             0.5555555555555556,
             "#d8576b"
            ],
            [
             0.6666666666666666,
             "#ed7953"
            ],
            [
             0.7777777777777778,
             "#fb9f3a"
            ],
            [
             0.8888888888888888,
             "#fdca26"
            ],
            [
             1,
             "#f0f921"
            ]
           ],
           "sequentialminus": [
            [
             0,
             "#0d0887"
            ],
            [
             0.1111111111111111,
             "#46039f"
            ],
            [
             0.2222222222222222,
             "#7201a8"
            ],
            [
             0.3333333333333333,
             "#9c179e"
            ],
            [
             0.4444444444444444,
             "#bd3786"
            ],
            [
             0.5555555555555556,
             "#d8576b"
            ],
            [
             0.6666666666666666,
             "#ed7953"
            ],
            [
             0.7777777777777778,
             "#fb9f3a"
            ],
            [
             0.8888888888888888,
             "#fdca26"
            ],
            [
             1,
             "#f0f921"
            ]
           ]
          },
          "colorway": [
           "#636efa",
           "#EF553B",
           "#00cc96",
           "#ab63fa",
           "#FFA15A",
           "#19d3f3",
           "#FF6692",
           "#B6E880",
           "#FF97FF",
           "#FECB52"
          ],
          "font": {
           "color": "#2a3f5f"
          },
          "geo": {
           "bgcolor": "white",
           "lakecolor": "white",
           "landcolor": "#E5ECF6",
           "showlakes": true,
           "showland": true,
           "subunitcolor": "white"
          },
          "hoverlabel": {
           "align": "left"
          },
          "hovermode": "closest",
          "mapbox": {
           "style": "light"
          },
          "paper_bgcolor": "white",
          "plot_bgcolor": "#E5ECF6",
          "polar": {
           "angularaxis": {
            "gridcolor": "white",
            "linecolor": "white",
            "ticks": ""
           },
           "bgcolor": "#E5ECF6",
           "radialaxis": {
            "gridcolor": "white",
            "linecolor": "white",
            "ticks": ""
           }
          },
          "scene": {
           "xaxis": {
            "backgroundcolor": "#E5ECF6",
            "gridcolor": "white",
            "gridwidth": 2,
            "linecolor": "white",
            "showbackground": true,
            "ticks": "",
            "zerolinecolor": "white"
           },
           "yaxis": {
            "backgroundcolor": "#E5ECF6",
            "gridcolor": "white",
            "gridwidth": 2,
            "linecolor": "white",
            "showbackground": true,
            "ticks": "",
            "zerolinecolor": "white"
           },
           "zaxis": {
            "backgroundcolor": "#E5ECF6",
            "gridcolor": "white",
            "gridwidth": 2,
            "linecolor": "white",
            "showbackground": true,
            "ticks": "",
            "zerolinecolor": "white"
           }
          },
          "shapedefaults": {
           "line": {
            "color": "#2a3f5f"
           }
          },
          "ternary": {
           "aaxis": {
            "gridcolor": "white",
            "linecolor": "white",
            "ticks": ""
           },
           "baxis": {
            "gridcolor": "white",
            "linecolor": "white",
            "ticks": ""
           },
           "bgcolor": "#E5ECF6",
           "caxis": {
            "gridcolor": "white",
            "linecolor": "white",
            "ticks": ""
           }
          },
          "title": {
           "x": 0.05
          },
          "xaxis": {
           "automargin": true,
           "gridcolor": "white",
           "linecolor": "white",
           "ticks": "",
           "title": {
            "standoff": 15
           },
           "zerolinecolor": "white",
           "zerolinewidth": 2
          },
          "yaxis": {
           "automargin": true,
           "gridcolor": "white",
           "linecolor": "white",
           "ticks": "",
           "title": {
            "standoff": 15
           },
           "zerolinecolor": "white",
           "zerolinewidth": 2
          }
         }
        },
        "violinmode": "group",
        "xaxis": {
         "anchor": "y",
         "domain": [
          0,
          1
         ]
        },
        "yaxis": {
         "anchor": "x",
         "domain": [
          0,
          1
         ],
         "title": {
          "text": "Number of Tokens"
         }
        }
       }
      }
     },
     "metadata": {},
     "output_type": "display_data"
    }
   ],
   "source": [
    "df = px.data.tips()\n",
    "fig = px.violin(test_tokens_df, y='Number of Tokens', box=True, # draw box plot inside the violin\n",
    "                points=False, # can be 'outliers', or False\n",
    "               )\n",
    "fig.show()"
   ]
  },
  {
   "cell_type": "code",
   "execution_count": null,
   "metadata": {},
   "outputs": [],
   "source": []
  },
  {
   "cell_type": "code",
   "execution_count": 72,
   "metadata": {},
   "outputs": [],
   "source": [
    "months = ['2017-01','2017-02','2017-03','2017-04','2017-05','2017-06','2017-07','2017-08','2017-09','2017-10','2017-11','2017-12','2018-01','2018-02','2018-03','2018-04','2018-05','2018-06','2018-07','2018-08','2018-09','2018-10','2018-11','2018-12','2019-01','2019-02','2019-03','2019-04','2019-05','2019-06','2019-07','2019-08','2019-09','2019-10','2019-11','2019-12','2020-01','2020-02','2020-03','2020-04','2020-05','2020-06','2020-07','2020-08','2020-09','2020-10','2020-11','2020-12','2021-01','2021-02','2021-03','2021-04','2021-05','2021-06','2021-07','2021-08','2021-09','2021-10','2021-11','2021-12','2022-01','2022-02','2022-03','2022-04','2022-05','2022-06','2022-07','2022-08','2022-09','2022-10','2022-11','2022-12','2023-01','2023-02','2023-03','2023-04','2023-05','2023-06','2023-07','2023-08','2023-09']\n",
    "search = [1,0,1,1,1,0,1,0,0,1,1,0,1,1,1,1,0,1,0,0,1,1,1,1,1,1,1,0,1,2,1,0,0,1,1,1,1,1,2,2,2,1,0,2,2,2,1,2,2,2,1,3,2,2,2,2,2,1,3,3,1,4,5,6,5,6,6,6,7,9,10,21,22,43,66,88,100,93,98,88,99]\n"
   ]
  },
  {
   "cell_type": "code",
   "execution_count": 83,
   "metadata": {},
   "outputs": [
    {
     "data": {
      "image/png": "[encoded data removed]",
      "text/plain": [
       "<Figure size 1000x500 with 1 Axes>"
      ]
     },
     "metadata": {},
     "output_type": "display_data"
    }
   ],
   "source": [
    "fig = plt.figure(figsize = (10, 5))\n",
    " \n",
    "\n",
    "plt.plot(months, search, color='orange')\n",
    "plt.xticks(['2017-01', '2018-01', '2019-01', '2020-01', '2021-01', '2022-01', '2022-11', '2023-09'])\n",
    " \n",
    "plt.xlabel(\"LLMs World Google Search\")\n",
    "plt.ylabel(\"Time\")\n",
    "plt.title(\"LLMs World Google Search\")\n",
    "plt.show()"
   ]
  },
  {
   "cell_type": "code",
   "execution_count": null,
   "metadata": {},
   "outputs": [],
   "source": []
  },
  {
   "cell_type": "code",
   "execution_count": null,
   "metadata": {},
   "outputs": [],
   "source": []
  }
 ],
 "metadata": {
  "kernelspec": {
   "display_name": "blink",
   "language": "python",
   "name": "python3"
  },
  "language_info": {
   "codemirror_mode": {
    "name": "ipython",
    "version": 3
   },
   "file_extension": ".py",
   "mimetype": "text/x-python",
   "name": "python",
   "nbconvert_exporter": "python",
   "pygments_lexer": "ipython3",
   "version": "3.10.8"
  },
  "orig_nbformat": 4
 },
 "nbformat": 4,
 "nbformat_minor": 2
}

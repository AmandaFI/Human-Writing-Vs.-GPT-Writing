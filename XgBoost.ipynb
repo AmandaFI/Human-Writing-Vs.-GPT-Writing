{
 "cells": [
  {
   "cell_type": "code",
   "execution_count": null,
   "metadata": {},
   "outputs": [],
   "source": [
    "import csv\n",
    "import pickle\n",
    "\n",
    "import xgboost as xgb\n",
    "from sklearn.metrics import accuracy_score, mean_squared_error, confusion_matrix\n",
    "import graphviz"
   ]
  },
  {
   "cell_type": "code",
   "execution_count": null,
   "metadata": {},
   "outputs": [],
   "source": [
    "file = open('data_pickles/processed_features_plus', 'rb')\n",
    "X_train, Y_train, X_test, Y_test, X_val, Y_val = pickle.load(file)\n",
    "file.close()"
   ]
  },
  {
   "cell_type": "code",
   "execution_count": null,
   "metadata": {},
   "outputs": [],
   "source": [
    "boost = xgb.XGBClassifier (objective=\"binary:logistic\", learning_rate = 0.02, booster=\"gbtree\")\n",
    "boost.fit (X_train, Y_train)\n",
    "\n",
    "# boost.predict(X_test)"
   ]
  },
  {
   "cell_type": "code",
   "execution_count": null,
   "metadata": {},
   "outputs": [],
   "source": [
    "pred = boost.predict(X_val)\n",
    "sci_pred = [round(value) for value in pred]\n",
    "\n",
    "acc = accuracy_score (Y_val, sci_pred)\n",
    "error = mean_squared_error (Y_val, sci_pred)\n",
    "cm = confusion_matrix(Y_val, sci_pred)\n",
    "\n",
    "print(f'Acc: {acc}')\n",
    "print(f'Error: {error}')\n",
    "print(f'Confusion Matrix: {cm}')"
   ]
  },
  {
   "cell_type": "code",
   "execution_count": null,
   "metadata": {},
   "outputs": [],
   "source": [
    "pred = boost.predict(X_test)\n",
    "sci_pred = [round(value) for value in pred]\n",
    "\n",
    "acc = accuracy_score (Y_test, sci_pred)\n",
    "error = mean_squared_error (Y_test, sci_pred)\n",
    "cm = confusion_matrix(Y_test, sci_pred)\n",
    "\n",
    "print(f'Acc: {acc}')\n",
    "print(f'Error: {error}')\n",
    "print(f'Confusion Matrix: {cm}')\n"
   ]
  },
  {
   "cell_type": "code",
   "execution_count": null,
   "metadata": {},
   "outputs": [],
   "source": [
    "xgb.plot_importance(boost)\n",
    "xgb.to_graphviz(boost, num_trees=boost.best_iteration)"
   ]
  },
  {
   "cell_type": "code",
   "execution_count": null,
   "metadata": {},
   "outputs": [],
   "source": []
  },
  {
   "cell_type": "code",
   "execution_count": null,
   "metadata": {},
   "outputs": [],
   "source": []
  }
 ],
 "metadata": {
  "kernelspec": {
   "display_name": "blink",
   "language": "python",
   "name": "python3"
  },
  "language_info": {
   "codemirror_mode": {
    "name": "ipython",
    "version": 3
   },
   "file_extension": ".py",
   "mimetype": "text/x-python",
   "name": "python",
   "nbconvert_exporter": "python",
   "pygments_lexer": "ipython3",
   "version": "3.10.8"
  },
  "orig_nbformat": 4
 },
 "nbformat": 4,
 "nbformat_minor": 2
}

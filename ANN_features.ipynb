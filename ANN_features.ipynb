{
 "cells": [
  {
   "cell_type": "code",
   "execution_count": 1,
   "metadata": {},
   "outputs": [],
   "source": [
    "import csv\n",
    "from keras.models import Model\n",
    "from keras.layers import Input, Dense, Dropout\n",
    "from keras.callbacks import EarlyStopping\n",
    "from keras.optimizers import Adam\n",
    "import pickle"
   ]
  },
  {
   "cell_type": "markdown",
   "metadata": {},
   "source": [
    "## Ann"
   ]
  },
  {
   "cell_type": "code",
   "execution_count": 2,
   "metadata": {},
   "outputs": [],
   "source": [
    "# file = open('processed_features', 'rb')\n",
    "# X_train, Y_train, X_test, Y_test, X_val, Y_val = pickle.load(file)\n",
    "# file.close()\n",
    "\n",
    "file = open('data_pickles/processed_features_plus', 'rb')\n",
    "X_train, Y_train, X_test, Y_test, X_val, Y_val = pickle.load(file)\n",
    "file.close()\n",
    "\n",
    "# file = open('processed_features_window_2', 'rb')\n",
    "# X_train, Y_train, X_test, Y_test, X_val, Y_val = pickle.load(file)\n",
    "# file.close()\n",
    "\n",
    "# file = open('processed_features_window_3', 'rb')\n",
    "# X_train, Y_train, X_test, Y_test, X_val, Y_val = pickle.load(file)\n",
    "# file.close()"
   ]
  },
  {
   "cell_type": "code",
   "execution_count": 3,
   "metadata": {},
   "outputs": [
    {
     "data": {
      "text/plain": [
       "((870, 13),\n",
       " array([0.44308452, 0.34832337, 0.1956427 , 0.53335732, 0.61453386,\n",
       "        0.18496241, 0.24151003, 0.47051729, 0.63403149, 0.48049792,\n",
       "        0.5156211 , 0.11363636, 0.5       ]),\n",
       " (870,))"
      ]
     },
     "execution_count": 3,
     "metadata": {},
     "output_type": "execute_result"
    }
   ],
   "source": [
    "X_train.shape, X_train[1], Y_train.shape"
   ]
  },
  {
   "cell_type": "code",
   "execution_count": 4,
   "metadata": {},
   "outputs": [],
   "source": [
    "reshape_form = X_train.shape[1]\n",
    "\n",
    "X_train = X_train.reshape(len(X_train), reshape_form)\n",
    "X_test = X_test.reshape(len(X_test), reshape_form)\n",
    "X_val = X_val.reshape(len(X_val), reshape_form)"
   ]
  },
  {
   "cell_type": "code",
   "execution_count": 5,
   "metadata": {},
   "outputs": [
    {
     "name": "stdout",
     "output_type": "stream",
     "text": [
      "Model: \"model\"\n",
      "_________________________________________________________________\n",
      " Layer (type)                Output Shape              Param #   \n",
      "=================================================================\n",
      " input_1 (InputLayer)        [(None, 13)]              0         \n",
      "                                                                 \n",
      " dense (Dense)               (None, 16)                224       \n",
      "                                                                 \n",
      " dense_1 (Dense)             (None, 8)                 136       \n",
      "                                                                 \n",
      " dense_2 (Dense)             (None, 1)                 9         \n",
      "                                                                 \n",
      "=================================================================\n",
      "Total params: 369\n",
      "Trainable params: 369\n",
      "Non-trainable params: 0\n",
      "_________________________________________________________________\n",
      "None\n"
     ]
    }
   ],
   "source": [
    "visible = Input(shape=(13, ))\n",
    "hidden1 = Dense(16, activation='relu')(visible)\n",
    "# drop1 = Dropout(0.25)(hidden1)\n",
    "hidden2 = Dense(8, activation='relu')(hidden1)\n",
    "output = Dense(1, activation='sigmoid')(hidden2)\n",
    "model = Model(inputs=visible, outputs=output)\n",
    "\n",
    "print(model.summary())"
   ]
  },
  {
   "cell_type": "code",
   "execution_count": 6,
   "metadata": {},
   "outputs": [],
   "source": [
    "model.compile(loss='binary_crossentropy',\n",
    "              optimizer=Adam(),\n",
    "              metrics=['accuracy'])\n",
    "\n",
    "callback = EarlyStopping(monitor='accuracy', patience=10)"
   ]
  },
  {
   "cell_type": "code",
   "execution_count": 7,
   "metadata": {},
   "outputs": [
    {
     "name": "stdout",
     "output_type": "stream",
     "text": [
      "Epoch 1/50\n",
      "28/28 - 1s - loss: 0.6870 - accuracy: 0.5977 - val_loss: 0.6713 - val_accuracy: 0.6452 - 1s/epoch - 43ms/step\n",
      "Epoch 2/50\n",
      "28/28 - 0s - loss: 0.6548 - accuracy: 0.7011 - val_loss: 0.6417 - val_accuracy: 0.7151 - 112ms/epoch - 4ms/step\n",
      "Epoch 3/50\n",
      "28/28 - 0s - loss: 0.6307 - accuracy: 0.7552 - val_loss: 0.6182 - val_accuracy: 0.7366 - 117ms/epoch - 4ms/step\n",
      "Epoch 4/50\n",
      "28/28 - 0s - loss: 0.6091 - accuracy: 0.7586 - val_loss: 0.5954 - val_accuracy: 0.7151 - 109ms/epoch - 4ms/step\n",
      "Epoch 5/50\n",
      "28/28 - 0s - loss: 0.5867 - accuracy: 0.7805 - val_loss: 0.5726 - val_accuracy: 0.7849 - 113ms/epoch - 4ms/step\n",
      "Epoch 6/50\n",
      "28/28 - 0s - loss: 0.5647 - accuracy: 0.7908 - val_loss: 0.5513 - val_accuracy: 0.7527 - 102ms/epoch - 4ms/step\n",
      "Epoch 7/50\n",
      "28/28 - 0s - loss: 0.5414 - accuracy: 0.8034 - val_loss: 0.5261 - val_accuracy: 0.7849 - 112ms/epoch - 4ms/step\n",
      "Epoch 8/50\n",
      "28/28 - 0s - loss: 0.5202 - accuracy: 0.8046 - val_loss: 0.5051 - val_accuracy: 0.7796 - 112ms/epoch - 4ms/step\n",
      "Epoch 9/50\n",
      "28/28 - 0s - loss: 0.4989 - accuracy: 0.8149 - val_loss: 0.4868 - val_accuracy: 0.7742 - 110ms/epoch - 4ms/step\n",
      "Epoch 10/50\n",
      "28/28 - 0s - loss: 0.4814 - accuracy: 0.8069 - val_loss: 0.4748 - val_accuracy: 0.7849 - 102ms/epoch - 4ms/step\n",
      "Epoch 11/50\n",
      "28/28 - 0s - loss: 0.4711 - accuracy: 0.8080 - val_loss: 0.4620 - val_accuracy: 0.7849 - 104ms/epoch - 4ms/step\n",
      "Epoch 12/50\n",
      "28/28 - 0s - loss: 0.4573 - accuracy: 0.8218 - val_loss: 0.4482 - val_accuracy: 0.7957 - 100ms/epoch - 4ms/step\n",
      "Epoch 13/50\n",
      "28/28 - 0s - loss: 0.4444 - accuracy: 0.8241 - val_loss: 0.4415 - val_accuracy: 0.8011 - 190ms/epoch - 7ms/step\n",
      "Epoch 14/50\n",
      "28/28 - 0s - loss: 0.4359 - accuracy: 0.8161 - val_loss: 0.4395 - val_accuracy: 0.7849 - 101ms/epoch - 4ms/step\n",
      "Epoch 15/50\n",
      "28/28 - 0s - loss: 0.4275 - accuracy: 0.8322 - val_loss: 0.4258 - val_accuracy: 0.8065 - 104ms/epoch - 4ms/step\n",
      "Epoch 16/50\n",
      "28/28 - 0s - loss: 0.4197 - accuracy: 0.8356 - val_loss: 0.4195 - val_accuracy: 0.8065 - 117ms/epoch - 4ms/step\n",
      "Epoch 17/50\n",
      "28/28 - 0s - loss: 0.4133 - accuracy: 0.8379 - val_loss: 0.4151 - val_accuracy: 0.7903 - 104ms/epoch - 4ms/step\n",
      "Epoch 18/50\n",
      "28/28 - 0s - loss: 0.4086 - accuracy: 0.8379 - val_loss: 0.4135 - val_accuracy: 0.8011 - 97ms/epoch - 3ms/step\n",
      "Epoch 19/50\n",
      "28/28 - 0s - loss: 0.4026 - accuracy: 0.8333 - val_loss: 0.4089 - val_accuracy: 0.8065 - 95ms/epoch - 3ms/step\n",
      "Epoch 20/50\n",
      "28/28 - 0s - loss: 0.3985 - accuracy: 0.8391 - val_loss: 0.4053 - val_accuracy: 0.8011 - 97ms/epoch - 3ms/step\n",
      "Epoch 21/50\n",
      "28/28 - 0s - loss: 0.3973 - accuracy: 0.8356 - val_loss: 0.4037 - val_accuracy: 0.8118 - 93ms/epoch - 3ms/step\n",
      "Epoch 22/50\n",
      "28/28 - 0s - loss: 0.3919 - accuracy: 0.8322 - val_loss: 0.4037 - val_accuracy: 0.7957 - 96ms/epoch - 3ms/step\n",
      "Epoch 23/50\n",
      "28/28 - 0s - loss: 0.3882 - accuracy: 0.8448 - val_loss: 0.4012 - val_accuracy: 0.8118 - 98ms/epoch - 3ms/step\n",
      "Epoch 24/50\n",
      "28/28 - 0s - loss: 0.3864 - accuracy: 0.8333 - val_loss: 0.3993 - val_accuracy: 0.8118 - 95ms/epoch - 3ms/step\n",
      "Epoch 25/50\n",
      "28/28 - 0s - loss: 0.3857 - accuracy: 0.8437 - val_loss: 0.3968 - val_accuracy: 0.8065 - 99ms/epoch - 4ms/step\n",
      "Epoch 26/50\n",
      "28/28 - 0s - loss: 0.3815 - accuracy: 0.8448 - val_loss: 0.3973 - val_accuracy: 0.8118 - 96ms/epoch - 3ms/step\n",
      "Epoch 27/50\n",
      "28/28 - 0s - loss: 0.3796 - accuracy: 0.8379 - val_loss: 0.3956 - val_accuracy: 0.8172 - 97ms/epoch - 3ms/step\n",
      "Epoch 28/50\n",
      "28/28 - 0s - loss: 0.3783 - accuracy: 0.8448 - val_loss: 0.3948 - val_accuracy: 0.8172 - 99ms/epoch - 4ms/step\n",
      "Epoch 29/50\n",
      "28/28 - 0s - loss: 0.3762 - accuracy: 0.8402 - val_loss: 0.3939 - val_accuracy: 0.8118 - 97ms/epoch - 3ms/step\n",
      "Epoch 30/50\n",
      "28/28 - 0s - loss: 0.3744 - accuracy: 0.8460 - val_loss: 0.3949 - val_accuracy: 0.8172 - 97ms/epoch - 3ms/step\n",
      "Epoch 31/50\n",
      "28/28 - 0s - loss: 0.3739 - accuracy: 0.8402 - val_loss: 0.3918 - val_accuracy: 0.8011 - 96ms/epoch - 3ms/step\n",
      "Epoch 32/50\n",
      "28/28 - 0s - loss: 0.3724 - accuracy: 0.8471 - val_loss: 0.3945 - val_accuracy: 0.8172 - 96ms/epoch - 3ms/step\n",
      "Epoch 33/50\n",
      "28/28 - 0s - loss: 0.3708 - accuracy: 0.8448 - val_loss: 0.3939 - val_accuracy: 0.8118 - 96ms/epoch - 3ms/step\n",
      "Epoch 34/50\n",
      "28/28 - 0s - loss: 0.3689 - accuracy: 0.8448 - val_loss: 0.3936 - val_accuracy: 0.8118 - 94ms/epoch - 3ms/step\n",
      "Epoch 35/50\n",
      "28/28 - 0s - loss: 0.3698 - accuracy: 0.8414 - val_loss: 0.3924 - val_accuracy: 0.8118 - 98ms/epoch - 3ms/step\n",
      "Epoch 36/50\n",
      "28/28 - 0s - loss: 0.3662 - accuracy: 0.8448 - val_loss: 0.3908 - val_accuracy: 0.8172 - 93ms/epoch - 3ms/step\n",
      "Epoch 37/50\n",
      "28/28 - 0s - loss: 0.3690 - accuracy: 0.8448 - val_loss: 0.3916 - val_accuracy: 0.8118 - 96ms/epoch - 3ms/step\n",
      "Epoch 38/50\n",
      "28/28 - 0s - loss: 0.3653 - accuracy: 0.8460 - val_loss: 0.3923 - val_accuracy: 0.8118 - 98ms/epoch - 3ms/step\n",
      "Epoch 39/50\n",
      "28/28 - 0s - loss: 0.3635 - accuracy: 0.8460 - val_loss: 0.3904 - val_accuracy: 0.8118 - 94ms/epoch - 3ms/step\n",
      "Epoch 40/50\n",
      "28/28 - 0s - loss: 0.3620 - accuracy: 0.8471 - val_loss: 0.3902 - val_accuracy: 0.8118 - 97ms/epoch - 3ms/step\n",
      "Epoch 41/50\n",
      "28/28 - 0s - loss: 0.3632 - accuracy: 0.8460 - val_loss: 0.3966 - val_accuracy: 0.8065 - 95ms/epoch - 3ms/step\n",
      "Epoch 42/50\n",
      "28/28 - 0s - loss: 0.3635 - accuracy: 0.8471 - val_loss: 0.3898 - val_accuracy: 0.8118 - 94ms/epoch - 3ms/step\n"
     ]
    }
   ],
   "source": [
    "history = model.fit(X_train, Y_train,\n",
    "                    # batch_size=100,\n",
    "                    epochs=50,\n",
    "                    verbose=2,\n",
    "                    validation_data=(X_val, Y_val),\n",
    "                    callbacks=[callback])"
   ]
  },
  {
   "cell_type": "code",
   "execution_count": 8,
   "metadata": {},
   "outputs": [
    {
     "name": "stdout",
     "output_type": "stream",
     "text": [
      "Evaluation loss: 0.3364165723323822\n",
      "Evaluation accuracy: 0.8526315689086914\n"
     ]
    }
   ],
   "source": [
    "score = model.evaluate(X_test, Y_test, verbose=0)\n",
    "print('Evaluation loss:', score[0])\n",
    "print('Evaluation accuracy:', score[1])"
   ]
  },
  {
   "cell_type": "code",
   "execution_count": null,
   "metadata": {},
   "outputs": [],
   "source": []
  },
  {
   "cell_type": "code",
   "execution_count": null,
   "metadata": {},
   "outputs": [],
   "source": []
  }
 ],
 "metadata": {
  "kernelspec": {
   "display_name": "blink",
   "language": "python",
   "name": "python3"
  },
  "language_info": {
   "codemirror_mode": {
    "name": "ipython",
    "version": 3
   },
   "file_extension": ".py",
   "mimetype": "text/x-python",
   "name": "python",
   "nbconvert_exporter": "python",
   "pygments_lexer": "ipython3",
   "version": "3.10.8"
  },
  "orig_nbformat": 4
 },
 "nbformat": 4,
 "nbformat_minor": 2
}
